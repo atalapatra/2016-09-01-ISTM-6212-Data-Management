{
 "cells": [
  {
   "cell_type": "code",
   "execution_count": null,
   "metadata": {
    "collapsed": true
   },
   "outputs": [],
   "source": [
    "## Question 1 Part A"
   ]
  },
  {
   "cell_type": "code",
   "execution_count": 2,
   "metadata": {
    "collapsed": false
   },
   "outputs": [
    {
     "name": "stdout",
     "output_type": "stream",
     "text": [
      "--2016-09-20 20:29:08--  https://raw.githubusercontent.com/gwsb-istm-6212-fall-2016/syllabus-and-schedule/master/projects/project-01/women.txt\n",
      "Resolving raw.githubusercontent.com (raw.githubusercontent.com)... 151.101.32.133\n",
      "Connecting to raw.githubusercontent.com (raw.githubusercontent.com)|151.101.32.133|:443... connected.\n",
      "HTTP request sent, awaiting response... 200 OK\n",
      "Length: 1053440 (1.0M) [text/plain]\n",
      "Saving to: ‘women.txt’\n",
      "\n",
      "women.txt           100%[===================>]   1.00M  --.-KB/s    in 0.1s    \n",
      "\n",
      "2016-09-20 20:29:08 (7.61 MB/s) - ‘women.txt’ saved [1053440/1053440]\n",
      "\n"
     ]
    }
   ],
   "source": [
    "## Get the text\n",
    "!wget https://raw.githubusercontent.com/gwsb-istm-6212-fall-2016/syllabus-and-schedule/master/projects/project-01/women.txt"
   ]
  },
  {
   "cell_type": "code",
   "execution_count": 3,
   "metadata": {
    "collapsed": false,
    "scrolled": true
   },
   "outputs": [
    {
     "name": "stdout",
     "output_type": "stream",
     "text": [
      "   1355 Jo\r\n",
      "    683 Meg\r\n",
      "    645 Amy\r\n",
      "    459 Beth\r\n"
     ]
    }
   ],
   "source": [
    "## Count the frequency of names\n",
    "!grep -oE '\\w{{1,}}' women.txt | grep -w \"Jo\\|Beth\\|Meg\\|Amy\"| sort| uniq -c|sort -rn "
   ]
  },
  {
   "cell_type": "code",
   "execution_count": 4,
   "metadata": {
    "collapsed": true
   },
   "outputs": [],
   "source": [
    "## Part B"
   ]
  },
  {
   "cell_type": "code",
   "execution_count": 5,
   "metadata": {
    "collapsed": false,
    "scrolled": true
   },
   "outputs": [
    {
     "name": "stdout",
     "output_type": "stream",
     "text": [
      "--2016-09-20 20:29:14--  https://raw.githubusercontent.com/gwsb-istm-6212-fall-2016/syllabus-and-schedule/master/projects/project-01/romeo.txt\n",
      "Resolving raw.githubusercontent.com (raw.githubusercontent.com)... 151.101.32.133\n",
      "Connecting to raw.githubusercontent.com (raw.githubusercontent.com)|151.101.32.133|:443... connected.\n",
      "HTTP request sent, awaiting response... 200 OK\n",
      "Length: 178983 (175K) [text/plain]\n",
      "Saving to: ‘romeo.txt’\n",
      "\n",
      "romeo.txt           100%[===================>] 174.79K  --.-KB/s    in 0.03s   \n",
      "\n",
      "2016-09-20 20:29:14 (6.80 MB/s) - ‘romeo.txt’ saved [178983/178983]\n",
      "\n"
     ]
    }
   ],
   "source": [
    "## Get the text\n",
    "!wget https://raw.githubusercontent.com/gwsb-istm-6212-fall-2016/syllabus-and-schedule/master/projects/project-01/romeo.txt"
   ]
  },
  {
   "cell_type": "code",
   "execution_count": 6,
   "metadata": {
    "collapsed": false
   },
   "outputs": [
    {
     "name": "stdout",
     "output_type": "stream",
     "text": [
      "    163 Rom\r\n",
      "    117 Jul\r\n"
     ]
    }
   ],
   "source": [
    "## Count the frequency of names\n",
    "!grep -w 'Rom\\|Jul' romeo.txt | grep -oE '\\w{{3,}}'| sort | uniq -c | sort -rn | head -2"
   ]
  },
  {
   "cell_type": "code",
   "execution_count": null,
   "metadata": {
    "collapsed": true
   },
   "outputs": [],
   "source": [
    "## Question 2 Part A"
   ]
  },
  {
   "cell_type": "code",
   "execution_count": 13,
   "metadata": {
    "collapsed": false,
    "scrolled": true
   },
   "outputs": [
    {
     "name": "stdout",
     "output_type": "stream",
     "text": [
      "--2016-09-20 20:48:34--  https://raw.githubusercontent.com/gwsb-istm-6212-fall-2016/syllabus-and-schedule/master/projects/project-01/2016q1.csv.zip\n",
      "Resolving raw.githubusercontent.com (raw.githubusercontent.com)... 151.101.32.133\n",
      "Connecting to raw.githubusercontent.com (raw.githubusercontent.com)|151.101.32.133|:443... connected.\n",
      "HTTP request sent, awaiting response... 200 OK\n",
      "Length: 10643003 (10M) [application/octet-stream]\n",
      "Saving to: ‘2016q1.csv.zip’\n",
      "\n",
      "2016q1.csv.zip      100%[===================>]  10.15M  10.1MB/s    in 1.0s    \n",
      "\n",
      "2016-09-20 20:48:35 (10.1 MB/s) - ‘2016q1.csv.zip’ saved [10643003/10643003]\n",
      "\n"
     ]
    }
   ],
   "source": [
    "## Get the article \n",
    "!wget https://raw.githubusercontent.com/gwsb-istm-6212-fall-2016/syllabus-and-schedule/master/projects/project-01/2016q1.csv.zip"
   ]
  },
  {
   "cell_type": "code",
   "execution_count": 14,
   "metadata": {
    "collapsed": false
   },
   "outputs": [
    {
     "name": "stdout",
     "output_type": "stream",
     "text": [
      "Archive:  2016q1.csv.zip\n",
      "  inflating: 2016q1.csv              \n"
     ]
    }
   ],
   "source": [
    "## Unzip the file\n",
    "!unzip 2016q1.csv.zip"
   ]
  },
  {
   "cell_type": "code",
   "execution_count": 15,
   "metadata": {
    "collapsed": false
   },
   "outputs": [],
   "source": [
    "## Rename the file to q4\n",
    "!mv 2016q1.csv q4.csv"
   ]
  },
  {
   "cell_type": "code",
   "execution_count": 16,
   "metadata": {
    "collapsed": false
   },
   "outputs": [
    {
     "name": "stdout",
     "output_type": "stream",
     "text": [
      "Duration (ms),Start date,End date,Start station number,Start station,End station number,End station,Bike number,Member Type\r",
      "\r\n",
      "301295,3/31/2016 23:59,4/1/2016 0:04,31280,11th & S St NW,31506,1st & Rhode Island Ave NW,W00022,Registered\r",
      "\r\n",
      "557887,3/31/2016 23:59,4/1/2016 0:08,31275,New Hampshire Ave & 24th St NW,31114,18th St & Wyoming Ave NW,W01294,Registered\r",
      "\r\n",
      "555944,3/31/2016 23:59,4/1/2016 0:08,31101,14th & V St NW,31221,18th & M St NW,W01416,Registered\r",
      "\r\n",
      "766916,3/31/2016 23:57,4/1/2016 0:09,31226,34th St & Wisconsin Ave NW,31214,17th & Corcoran St NW,W01090,Registered\r",
      "\r\n",
      "139656,3/31/2016 23:57,3/31/2016 23:59,31011,23rd & Crystal Dr,31009,27th & Crystal Dr,W21934,Registered\r",
      "\r\n",
      "967713,3/31/2016 23:57,4/1/2016 0:13,31266,11th & M St NW,31600,5th & K St NW,W20562,Casual\r",
      "\r\n",
      "534836,3/31/2016 23:57,4/1/2016 0:06,31222,New York Ave & 15th St NW,31278,18th & R St NW,W20222,Registered\r",
      "\r\n",
      "243864,3/31/2016 23:56,4/1/2016 0:00,31228,8th & H St NW,31600,5th & K St NW,W20291,Registered\r",
      "\r\n",
      "372524,3/31/2016 23:55,4/1/2016 0:01,31113,Columbia Rd & Belmont St NW,31234,20th & O St NW / Dupont South,W20590,Registered\r",
      "\r\n"
     ]
    }
   ],
   "source": [
    "!head q4.csv"
   ]
  },
  {
   "cell_type": "code",
   "execution_count": 17,
   "metadata": {
    "collapsed": false
   },
   "outputs": [
    {
     "name": "stdout",
     "output_type": "stream",
     "text": [
      "  1: Duration (ms)\r\n",
      "  2: Start date\r\n",
      "  3: End date\r\n",
      "  4: Start station number\r\n",
      "  5: Start station\r\n",
      "  6: End station number\r\n",
      "  7: End station\r\n",
      "  8: Bike number\r\n",
      "  9: Member Type\r\n"
     ]
    }
   ],
   "source": [
    "## Return the columns of the file\n",
    "!csvcut -n q4.csv"
   ]
  },
  {
   "cell_type": "code",
   "execution_count": 18,
   "metadata": {
    "collapsed": false
   },
   "outputs": [
    {
     "name": "stdout",
     "output_type": "stream",
     "text": [
      "  13120 Columbus Circle / Union Station\r\n",
      "   9560 Massachusetts Ave & Dupont Circle NW\r\n",
      "   9388 Lincoln Memorial\r\n",
      "   8138 Jefferson Dr & 14th St SW\r\n",
      "   7479 Thomas Circle\r\n",
      "   7401 15th & P St NW\r\n",
      "   6568 14th & V St NW\r\n",
      "   6491 New Hampshire Ave & T St NW\r\n",
      "   5649 Eastern Market Metro / Pennsylvania Ave & 7th St SE\r\n",
      "   5514 17th & Corcoran St NW\r\n"
     ]
    }
   ],
   "source": [
    "## Return top 10 departing stations\n",
    "!csvcut -c5 q4.csv |sort|uniq -c|sort -rn|head -10"
   ]
  },
  {
   "cell_type": "code",
   "execution_count": 22,
   "metadata": {
    "collapsed": false
   },
   "outputs": [
    {
     "name": "stdout",
     "output_type": "stream",
     "text": [
      "  13880 Columbus Circle / Union Station\r\n",
      "  11183 Massachusetts Ave & Dupont Circle NW\r\n",
      "   9419 Lincoln Memorial\r\n",
      "   8975 Jefferson Dr & 14th St SW\r\n",
      "   8092 15th & P St NW\r\n",
      "   7267 14th & V St NW\r\n",
      "   6997 Thomas Circle\r\n",
      "   6245 New Hampshire Ave & T St NW\r\n",
      "   5761 5th & K St NW\r\n",
      "   5651 17th & Corcoran St NW\r\n"
     ]
    }
   ],
   "source": [
    "## Return top 10 destination stations\n",
    "!csvcut -c7 q4.csv |sort|uniq -c|sort -rn|head -10"
   ]
  },
  {
   "cell_type": "code",
   "execution_count": 20,
   "metadata": {
    "collapsed": true
   },
   "outputs": [],
   "source": [
    "## Part B"
   ]
  },
  {
   "cell_type": "code",
   "execution_count": 21,
   "metadata": {
    "collapsed": false,
    "scrolled": false
   },
   "outputs": [
    {
     "name": "stdout",
     "output_type": "stream",
     "text": [
      "     17 W22227\r\n",
      "     16 W21867\r\n",
      "     16 W21641\r\n",
      "     16 W21538\r\n",
      "     16 W21239\r\n",
      "     16 W20540\r\n",
      "     16 W00714\r\n",
      "     15 W22080\r\n",
      "     15 W21450\r\n",
      "     15 W21076\r\n",
      "sort: write failed: 'standard output': Broken pipe\r\n",
      "sort: write error\r\n"
     ]
    }
   ],
   "source": [
    "## Return the top 10 bikes used at the most popular departing station\n",
    "!csvcut -c5,8 q4.csv |csvgrep -c1 -m 'Columbus Circle / Union Station'|csvcut -c2|csvsort|uniq -c|sort -rn|head -10"
   ]
  },
  {
   "cell_type": "code",
   "execution_count": 23,
   "metadata": {
    "collapsed": false
   },
   "outputs": [
    {
     "name": "stdout",
     "output_type": "stream",
     "text": [
      "     17 W22227\r\n",
      "     16 W21867\r\n",
      "     16 W21641\r\n",
      "     16 W21538\r\n",
      "     16 W21239\r\n",
      "     16 W20540\r\n",
      "     16 W00714\r\n",
      "     15 W22080\r\n",
      "     15 W21450\r\n",
      "     15 W21076\r\n",
      "sort: write failed: 'standard output': Broken pipe\r\n",
      "sort: write error\r\n"
     ]
    }
   ],
   "source": [
    "## Return the top 10 bikes used at the most popular destination station\n",
    "!csvcut -c5,8 q4.csv |csvgrep -c1 -m 'Columbus Circle / Union Station'|csvcut -c2|csvsort|uniq -c|sort -rn|head -10"
   ]
  },
  {
   "cell_type": "code",
   "execution_count": null,
   "metadata": {
    "collapsed": true
   },
   "outputs": [],
   "source": [
    "## Problem 3 Part A"
   ]
  },
  {
   "cell_type": "code",
   "execution_count": 4,
   "metadata": {
    "collapsed": true
   },
   "outputs": [],
   "source": [
    "## Add simple filter python file\n",
    "!chmod +x simplefilter.py"
   ]
  },
  {
   "cell_type": "code",
   "execution_count": 5,
   "metadata": {
    "collapsed": true
   },
   "outputs": [],
   "source": [
    "## Copy the module of simple filter to lower\n",
    "!cp simplefilter.py lower.py"
   ]
  },
  {
   "cell_type": "code",
   "execution_count": 6,
   "metadata": {
    "collapsed": true
   },
   "outputs": [],
   "source": [
    "## Copy the module of simple filter to split\n",
    "!cp simplefilter.py split.py"
   ]
  },
  {
   "cell_type": "code",
   "execution_count": 4,
   "metadata": {
    "collapsed": false
   },
   "outputs": [
    {
     "name": "stdout",
     "output_type": "stream",
     "text": [
      "   8155 and\r\n",
      "   7689 the\r\n",
      "   5152 to\r\n",
      "   3523 of\r\n",
      "   3245 her\r\n",
      "   2774 it\r\n",
      "   2503 in\r\n",
      "   2447 you\r\n",
      "   2343 she\r\n",
      "   2233 for\r\n",
      "sort: write failed: 'standard output': Broken pipe\r\n",
      "sort: write error\r\n"
     ]
    }
   ],
   "source": [
    "## Return the top 10 most commen words in women.txt in pipeline\n",
    "!cat women.txt| tr '[:upper:]' '[:lower:]' |grep -oE '\\w{{2,}}'| sort | uniq -c |sort -rn|head -10"
   ]
  },
  {
   "cell_type": "code",
   "execution_count": 5,
   "metadata": {
    "collapsed": false,
    "scrolled": true
   },
   "outputs": [
    {
     "name": "stdout",
     "output_type": "stream",
     "text": [
      "   8155 and\r\n",
      "   7689 the\r\n",
      "   5152 to\r\n",
      "   3523 of\r\n",
      "   3245 her\r\n",
      "   2774 it\r\n",
      "   2503 in\r\n",
      "   2447 you\r\n",
      "   2343 she\r\n",
      "   2233 for\r\n",
      "sort: write failed: 'standard output': Broken pipe\r\n",
      "sort: write error\r\n"
     ]
    }
   ],
   "source": [
    "## Return the top 10 most common words in women.txt using filter\n",
    "!cat women.txt|./lower.py| ./split.py | sort | uniq -c |sort -rn|head -10"
   ]
  },
  {
   "cell_type": "code",
   "execution_count": null,
   "metadata": {
    "collapsed": true
   },
   "outputs": [],
   "source": [
    "## Part B"
   ]
  },
  {
   "cell_type": "code",
   "execution_count": 10,
   "metadata": {
    "collapsed": true
   },
   "outputs": [],
   "source": [
    "## Copy the module of simple filter to removestopwords\n",
    "!cp simplefilter.py removestopwords.py"
   ]
  },
  {
   "cell_type": "code",
   "execution_count": 7,
   "metadata": {
    "collapsed": false
   },
   "outputs": [
    {
     "name": "stdout",
     "output_type": "stream",
     "text": [
      "   3523 of\r\n",
      "   3245 her\r\n",
      "   2774 it\r\n",
      "   2503 in\r\n",
      "   2233 for\r\n",
      "   2033 was\r\n",
      "   1978 as\r\n",
      "   1937 that\r\n",
      "   1598 he\r\n",
      "   1469 but\r\n",
      "sort: write failed: 'standard output': Broken pipe\r\n",
      "sort: write error\r\n"
     ]
    }
   ],
   "source": [
    "## Return the top 10 most common words in women.txt with stops words removed\n",
    "!grep -oE '\\w{{2,}}' women.txt |./lower.py|./removestopwords.py| grep -v '^[0-9]' | sort | uniq -c |sort -rn|head"
   ]
  },
  {
   "cell_type": "code",
   "execution_count": 7,
   "metadata": {
    "collapsed": false
   },
   "outputs": [
    {
     "name": "stdout",
     "output_type": "stream",
     "text": [
      "--2016-09-23 02:49:07--  https://raw.githubusercontent.com/gwsb-istm-6212-fall-2016/syllabus-and-schedule/master/projects/project-01/texts.zip\n",
      "Resolving raw.githubusercontent.com (raw.githubusercontent.com)... 151.101.32.133\n",
      "Connecting to raw.githubusercontent.com (raw.githubusercontent.com)|151.101.32.133|:443... connected.\n",
      "HTTP request sent, awaiting response... 200 OK\n",
      "Length: 12668137 (12M) [application/octet-stream]\n",
      "Saving to: ‘texts.zip’\n",
      "\n",
      "texts.zip           100%[===================>]  12.08M  9.24MB/s    in 1.3s    \n",
      "\n",
      "2016-09-23 02:49:08 (9.24 MB/s) - ‘texts.zip’ saved [12668137/12668137]\n",
      "\n"
     ]
    }
   ],
   "source": [
    "!wget https://raw.githubusercontent.com/gwsb-istm-6212-fall-2016/syllabus-and-schedule/master/projects/project-01/texts.zip"
   ]
  },
  {
   "cell_type": "code",
   "execution_count": 12,
   "metadata": {
    "collapsed": false
   },
   "outputs": [
    {
     "name": "stdout",
     "output_type": "stream",
     "text": [
      "Archive:  texts.zip\n",
      "  inflating: many-texts/10001.txt    \n",
      "  inflating: many-texts/10002.txt    \n",
      "  inflating: many-texts/10003.txt    \n",
      "  inflating: many-texts/10004.txt    \n",
      "  inflating: many-texts/10005.txt    \n",
      "  inflating: many-texts/10006.txt    \n",
      "  inflating: many-texts/10007.txt    \n",
      "  inflating: many-texts/10008.txt    \n",
      "  inflating: many-texts/10009.txt    \n",
      "  inflating: many-texts/10010.txt    \n",
      "  inflating: many-texts/10011.txt    \n",
      "  inflating: many-texts/10012.txt    \n",
      "  inflating: many-texts/10013.txt    \n",
      "  inflating: many-texts/10014.txt    \n",
      "  inflating: many-texts/10015.txt    \n",
      "  inflating: many-texts/10016.txt    \n",
      "  inflating: many-texts/10017.txt    \n",
      "  inflating: many-texts/10018.txt    \n",
      "  inflating: many-texts/10019.txt    \n",
      "  inflating: many-texts/10020.txt    \n",
      "  inflating: many-texts/10021.txt    \n",
      "  inflating: many-texts/10023.txt    \n",
      "  inflating: many-texts/10024.txt    \n",
      "  inflating: many-texts/10025.txt    \n",
      "  inflating: many-texts/10026.txt    \n",
      "  inflating: many-texts/10027.txt    \n",
      "  inflating: many-texts/10028.txt    \n",
      "  inflating: many-texts/10029.txt    \n",
      "  inflating: many-texts/10030.txt    \n",
      "  inflating: many-texts/10031.txt    \n",
      "  inflating: many-texts/10032.txt    \n",
      "  inflating: many-texts/10033.txt    \n",
      "  inflating: many-texts/10034.txt    \n",
      "  inflating: many-texts/10035.txt    \n",
      "  inflating: many-texts/10036.txt    \n",
      "  inflating: many-texts/10037.txt    \n",
      "  inflating: many-texts/10038.txt    \n",
      "  inflating: many-texts/10039.txt    \n",
      "  inflating: many-texts/10040.txt    \n",
      "  inflating: many-texts/10041.txt    \n",
      "  inflating: many-texts/10042.txt    \n",
      "  inflating: many-texts/10043.txt    \n",
      "  inflating: many-texts/10045.txt    \n",
      "  inflating: many-texts/10046.txt    \n",
      "  inflating: many-texts/10047.txt    \n",
      "  inflating: many-texts/10048.txt    \n",
      "  inflating: many-texts/10049.txt    \n",
      "  inflating: many-texts/10050.txt    \n",
      "  inflating: many-texts/10051.txt    \n",
      "  inflating: many-texts/10052.txt    \n",
      "  inflating: many-texts/10056.txt    \n",
      "  inflating: many-texts/10059.txt    \n",
      "  inflating: many-texts/10060.txt    \n",
      "  inflating: many-texts/10062.txt    \n",
      "  inflating: many-texts/12370.txt    \n",
      "  inflating: many-texts/12372.txt    \n",
      "  inflating: many-texts/12373.txt    \n",
      "  inflating: many-texts/12374.txt    \n",
      "  inflating: many-texts/12375.txt    \n",
      "  inflating: many-texts/12376.txt    \n",
      "  inflating: many-texts/12377.txt    \n",
      "  inflating: many-texts/12378.txt    \n",
      "  inflating: many-texts/12380.txt    \n",
      "  inflating: many-texts/12381.txt    \n",
      "  inflating: many-texts/12383.txt    \n",
      "  inflating: many-texts/12384.txt    \n",
      "  inflating: many-texts/12385.txt    \n",
      "  inflating: many-texts/12386.txt    \n",
      "  inflating: many-texts/1jcfs10.txt  \n",
      "  inflating: many-texts/2babb10.txt  \n",
      "  inflating: many-texts/3babb10.txt  \n",
      "  inflating: many-texts/50bab10.txt  \n",
      "  inflating: many-texts/ajtl10.txt   \n",
      "  inflating: many-texts/allyr10.txt  \n",
      "  inflating: many-texts/alpsn10.txt  \n",
      "  inflating: many-texts/balen10.txt  \n",
      "  inflating: many-texts/baleng2.txt  \n",
      "  inflating: many-texts/batlf10.txt  \n",
      "  inflating: many-texts/bgopr10.txt  \n",
      "  inflating: many-texts/brnte10.txt  \n",
      "  inflating: many-texts/bstjg10.txt  \n",
      "  inflating: many-texts/cambp10.txt  \n",
      "  inflating: many-texts/canbe10.txt  \n",
      "  inflating: many-texts/cantp10.txt  \n",
      "  inflating: many-texts/cfrz10.txt   \n",
      "  inflating: many-texts/crsnk10.txt  \n",
      "  inflating: many-texts/esbio10.txt  \n",
      "  inflating: many-texts/grybr10.txt  \n",
      "  inflating: many-texts/mklmt10.txt  \n",
      "  inflating: many-texts/morem10.txt  \n",
      "  inflating: many-texts/mspcd10.txt  \n",
      "  inflating: many-texts/penbr10.txt  \n",
      "  inflating: many-texts/pgjr10.txt   \n",
      "  inflating: many-texts/pntvw10.txt  \n",
      "  inflating: many-texts/prcpg10.txt  \n",
      "  inflating: many-texts/prhg10.txt   \n",
      "  inflating: many-texts/prhsb10.txt  \n",
      "  inflating: many-texts/rlsl110.txt  \n",
      "  inflating: many-texts/rlsl210.txt  \n",
      "  inflating: many-texts/rmlav10.txt  \n",
      "  inflating: many-texts/sesli10.txt  \n",
      "  inflating: many-texts/svyrd10.txt  \n",
      "  inflating: many-texts/tecom10.txt  \n",
      "  inflating: many-texts/utrkj10.txt  \n",
      "  inflating: many-texts/vpasm10.txt  \n",
      "  inflating: many-texts/wldsp10.txt  \n",
      "  inflating: many-texts/wtrbs10.txt  \n",
      "  inflating: many-texts/zncli10.txt  \n"
     ]
    }
   ],
   "source": [
    "!unzip -d many-texts texts.zip"
   ]
  },
  {
   "cell_type": "code",
   "execution_count": 13,
   "metadata": {
    "collapsed": false
   },
   "outputs": [
    {
     "name": "stdout",
     "output_type": "stream",
     "text": [
      "109\r\n"
     ]
    }
   ],
   "source": [
    "!ls -l many-texts | wc -l"
   ]
  },
  {
   "cell_type": "code",
   "execution_count": 14,
   "metadata": {
    "collapsed": false
   },
   "outputs": [
    {
     "name": "stdout",
     "output_type": "stream",
     "text": [
      "     958     8807    52510 many-texts/10001.txt\n",
      "    5690    54201   306892 many-texts/10002.txt\n",
      "    6327    64594   380817 many-texts/10003.txt\n",
      "    5361    51300   302750 many-texts/10004.txt\n",
      "    7313    73656   434760 many-texts/10005.txt\n",
      "    1582    16512    95831 many-texts/10006.txt\n",
      "    3695    31295   180129 many-texts/10007.txt\n",
      "    9154    69542   407271 many-texts/10008.txt\n",
      "    8502    90180   504214 many-texts/10009.txt\n",
      "    1451    13938    86336 many-texts/10010.txt\n",
      "    3881    26555   155567 many-texts/10011.txt\n",
      "    9175    94007   561124 many-texts/10012.txt\n",
      "    2535    18202   136650 many-texts/10013.txt\n",
      "    2858    19257   142492 many-texts/10014.txt\n",
      "    2681    18382   138460 many-texts/10015.txt\n",
      "    2824    19782   147277 many-texts/10016.txt\n",
      "    2661    18392   136288 many-texts/10017.txt\n",
      "    2741    18548   139702 many-texts/10018.txt\n",
      "    2740    18474   138437 many-texts/10019.txt\n",
      "    5632    48315   280956 many-texts/10020.txt\n",
      "    7316    55174   318632 many-texts/10021.txt\n",
      "    3583    38245   214800 many-texts/10023.txt\n",
      "    6441    53315   306215 many-texts/10024.txt\n",
      "    9639    69686   404693 many-texts/10025.txt\n",
      "    1937    16222    99760 many-texts/10026.txt\n",
      "    9072    75404   439080 many-texts/10027.txt\n",
      "    5369    46349   276424 many-texts/10028.txt\n",
      "    6896    54856   316283 many-texts/10029.txt\n",
      "   10790   104068   587414 many-texts/10030.txt\n",
      "   10377    64146   410012 many-texts/10031.txt\n",
      "    2622    18401   136841 many-texts/10032.txt\n",
      "    2648    18820   138029 many-texts/10033.txt\n",
      "    2888    18082   137047 many-texts/10034.txt\n",
      "    2750    19139   142997 many-texts/10035.txt\n",
      "    2778    18691   142257 many-texts/10036.txt\n",
      "    8222    69786   396120 many-texts/10037.txt\n",
      "   21255   154845   895429 many-texts/10038.txt\n",
      "   23550   147559   884471 many-texts/10039.txt\n",
      "    1053     4683    42014 many-texts/10040.txt\n",
      "    9132    75482   449973 many-texts/10041.txt\n",
      "    8147    75355   450525 many-texts/10042.txt\n",
      "    3319    32326   186257 many-texts/10043.txt\n",
      "    6265    40441   242697 many-texts/10045.txt\n",
      "    9802    95425   514564 many-texts/10046.txt\n",
      "    2785    20103   148901 many-texts/10047.txt\n",
      "    6225    45314   261984 many-texts/10048.txt\n",
      "    2981    30351   169713 many-texts/10049.txt\n",
      "    2838    29895   161556 many-texts/10050.txt\n",
      "    4081    45376   246157 many-texts/10051.txt\n",
      "    3508    38255   210943 many-texts/10052.txt\n",
      "   12006    90235   531848 many-texts/10056.txt\n",
      "    6650    51775   305801 many-texts/10059.txt\n",
      "    9956    98940   600646 many-texts/10060.txt\n",
      "   15638   144792   830476 many-texts/10062.txt\n",
      "    9574   100603   569574 many-texts/12370.txt\n",
      "    9331    85819   503561 many-texts/12372.txt\n",
      "    8776    86268   511478 many-texts/12373.txt\n",
      "    8747    84637   499663 many-texts/12374.txt\n",
      "    6151    54689   335840 many-texts/12375.txt\n",
      "    9468    92699   556871 many-texts/12376.txt\n",
      "    3710    33010   190511 many-texts/12377.txt\n",
      "    1905    13876    86285 many-texts/12378.txt\n",
      "    9379    82181   478797 many-texts/12380.txt\n",
      "    5456    56619   343561 many-texts/12381.txt\n",
      "   20247   126872   834180 many-texts/12383.txt\n",
      "    6015    33748   211632 many-texts/12384.txt\n",
      "   14015   119266   706620 many-texts/12385.txt\n",
      "    7972    76744   418886 many-texts/12386.txt\n",
      "   13569   141089   864515 many-texts/1jcfs10.txt\n",
      "    4658    22391   133753 many-texts/2babb10.txt\n",
      "    4814    25104   148572 many-texts/3babb10.txt\n",
      "    5859    30669   179964 many-texts/50bab10.txt\n",
      "    5702    48306   273967 many-texts/ajtl10.txt\n",
      "    2752    24292   145780 many-texts/allyr10.txt\n",
      "    7758    76519   429807 many-texts/alpsn10.txt\n",
      "    2893    17536    98212 many-texts/balen10.txt\n",
      "   10930    67628   368952 many-texts/baleng2.txt\n",
      "    3897    31279   183018 many-texts/batlf10.txt\n",
      "    2844    19051   110426 many-texts/bgopr10.txt\n",
      "     824     6677    41155 many-texts/brnte10.txt\n",
      "    2187    20352   114878 many-texts/bstjg10.txt\n",
      "    2334    19883   114379 many-texts/cambp10.txt\n",
      "    6965    62419   360031 many-texts/canbe10.txt\n",
      "    1975    16461    97478 many-texts/cantp10.txt\n",
      "    7790    69450   392387 many-texts/cfrz10.txt\n",
      "    8070    81365   461521 many-texts/crsnk10.txt\n",
      "    3529    27169   166625 many-texts/esbio10.txt\n",
      "    2389    18359   105427 many-texts/grybr10.txt\n",
      "    6257    57131   325285 many-texts/mklmt10.txt\n",
      "    1275     6277    38273 many-texts/morem10.txt\n",
      "    2682    25522   149315 many-texts/mspcd10.txt\n",
      "    2719    21442   124367 many-texts/penbr10.txt\n",
      "    5968    54254   309320 many-texts/pgjr10.txt\n",
      "    2047    21858   123684 many-texts/pntvw10.txt\n",
      "    7689    68597   393344 many-texts/prcpg10.txt\n",
      "    2365    19728   116330 many-texts/prhg10.txt\n",
      "    4171    34653   202188 many-texts/prhsb10.txt\n",
      "   12644   103791   576111 many-texts/rlsl110.txt\n",
      "   13022   113937   629627 many-texts/rlsl210.txt\n",
      "    7687    48233   288195 many-texts/rmlav10.txt\n",
      "    4920    49931   285499 many-texts/sesli10.txt\n",
      "    4176    20935   119559 many-texts/svyrd10.txt\n",
      "    4796    47165   266759 many-texts/tecom10.txt\n",
      "   11757   114971   671233 many-texts/utrkj10.txt\n",
      "     902     5482    32586 many-texts/vpasm10.txt\n",
      "    1540    14174    82920 many-texts/wldsp10.txt\n",
      "    7991    70571   385159 many-texts/wtrbs10.txt\n",
      "   11144   100665   598020 many-texts/zncli10.txt\n",
      "  668517  5607822 33085102 total\n"
     ]
    }
   ],
   "source": [
    "!wc many-texts/*.txt"
   ]
  },
  {
   "cell_type": "code",
   "execution_count": 16,
   "metadata": {
    "collapsed": false
   },
   "outputs": [
    {
     "name": "stdout",
     "output_type": "stream",
     "text": [
      "/bin/sh: 1: parallel: not found\r\n",
      "ls: write error: Broken pipe\r\n",
      "Command exited with non-zero status 2\r\n",
      "0.00user 0.00system 0:00.00elapsed 0%CPU (0avgtext+0avgdata 2336maxresident)k\r\n",
      "0inputs+0outputs (0major+117minor)pagefaults 0swaps\r\n"
     ]
    }
   ],
   "source": [
    "!time ls many-texts/*.txt | parallel --eta -j+0 \"grep -oE '\\w{2,}' {} | tr '[:upper:]' '[:lower:]' >> many-texts/all-words.txt\""
   ]
  },
  {
   "cell_type": "code",
   "execution_count": null,
   "metadata": {
    "collapsed": true
   },
   "outputs": [],
   "source": []
  }
 ],
 "metadata": {
  "anaconda-cloud": {},
  "kernelspec": {
   "display_name": "Python [Root]",
   "language": "python",
   "name": "Python [Root]"
  },
  "language_info": {
   "codemirror_mode": {
    "name": "ipython",
    "version": 3
   },
   "file_extension": ".py",
   "mimetype": "text/x-python",
   "name": "python",
   "nbconvert_exporter": "python",
   "pygments_lexer": "ipython3",
   "version": "3.5.2"
  }
 },
 "nbformat": 4,
 "nbformat_minor": 1
}
