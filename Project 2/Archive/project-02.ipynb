{
 "cells": [
  {
   "cell_type": "markdown",
   "metadata": {},
   "source": [
    "# Project 02 - Due Friday, November 11 at 12pm\n",
    "\n",
    "*Objectives*: Gain experience loading a transactional dataset into a relational database model you define yourself and using SQL to explore its contents. Transform the data into a star schema, documenting the schema visually, and explore the transformed data analytically by writing and executing a number of SQL queries using common syntax and functions and describing your findings.  Gain practice working on these tasks with a partner.\n",
    "\n",
    "*Grading criteria*: The tasks should all be completed, and questions should all be answered with SQL queries, diagrams, and charts in the space provided, unless a text answer is requested.  The notebook itself should be completely reproducible at datanotebook.org, from start to finish: another person should be able to use the same code to obtain the same results as yours.  Note that you will receive no more than partial credit if you do not add text/markdown cells explaining your thinking at each major step in each problem.\n",
    "\n",
    "*Attestation*: **Work in pairs**.  At the end of your submitted notebook, identify the work each partner performed and attest that each contributed substantially to the work.\n",
    "\n",
    "*Deadline*: Friday, November 11, 12pm.  One member of each pair must submit your notebook to Blackboard; you should not both submit it separately.  You may each push a copy to your own GitHub repository.\n",
    "\n",
    "\n",
    "## Setup - select and obtain data\n",
    "\n",
    "The US City Open Data Census has a variety of [transactional data from all over the country](http://us-city.census.okfn.org/).  Select one topic and one city from this Census, download the data, and explain your reason for this choice before proceeding.  Provide a link to the web page for the data set you've chosen.\n",
    "\n",
    "I strongly encourage you to select a dataset from among the following topics:  Crime, Property Assessment, Campaign Finance Contributions, Service Requests (311), and Web Analytics.\n",
    "\n",
    "By *transactional* data I mean records at the grain of one event per business process.  In the case of Service Requests (311), for example, that would require data at the level of each individual report of a service request.  If this isn't clear, think about the bike trip data - each individual ride was included - and look for data at that level of event/process specificity.  Avoid data like the Connecticut boating data, which was summarized by year, not individual transactions.\n",
    "\n",
    "Please aim for a dataset of at least 10,000 individual records, but less than 250,000 records.  A little more or a little less is okay, but try to stay within these limits."
   ]
  },
  {
   "cell_type": "code",
   "execution_count": 2,
   "metadata": {
    "collapsed": false
   },
   "outputs": [
    {
     "name": "stdout",
     "output_type": "stream",
     "text": [
      "--2016-11-04 22:50:05--  https://data.baltimorecity.gov/api/views/wsfq-mvij/rows.csv\n",
      "Resolving data.baltimorecity.gov (data.baltimorecity.gov)... 52.206.140.205\n",
      "Connecting to data.baltimorecity.gov (data.baltimorecity.gov)|52.206.140.205|:443... connected.\n",
      "HTTP request sent, awaiting response... 200 OK\n",
      "Length: unspecified [text/csv]\n",
      "Saving to: ‘rows.csv.1’\n",
      "\n",
      "rows.csv.1              [   <=>                ]  32.92M  74.4MB/s   in 0.4s   \n",
      "\n",
      "Last-modified header invalid -- time-stamp ignored.\n",
      "2016-11-04 22:50:06 (74.4 MB/s) - ‘rows.csv.1’ saved [34515653]\n",
      "\n"
     ]
    }
   ],
   "source": [
    "!wget https://data.baltimorecity.gov/api/views/wsfq-mvij/rows.csv"
   ]
  },
  {
   "cell_type": "markdown",
   "metadata": {},
   "source": [
    "## Problem 1 - examine the data (20 points)\n",
    "\n",
    "Use `csvstat`, `pandas`, or other tools as you see fit and observe the contents of your dataset.  Review important points from any metadata provided.  Describe what you see:  What do the columns mean?  Are there null values?  Which columns interest you the most?  Which columns present some opportunities, challenges, or questions you would like to ask?"
   ]
  },
  {
   "cell_type": "code",
   "execution_count": 5,
   "metadata": {
    "collapsed": false
   },
   "outputs": [
    {
     "name": "stdout",
     "output_type": "stream",
     "text": [
      "283615 rows.csv\r\n"
     ]
    }
   ],
   "source": [
    "!wc -l rows.csv"
   ]
  },
  {
   "cell_type": "code",
   "execution_count": 6,
   "metadata": {
    "collapsed": false
   },
   "outputs": [
    {
     "name": "stdout",
     "output_type": "stream",
     "text": [
      "  1. 12/12/2014\n",
      "\t<class 'datetime.date'>\n",
      "\tNulls: False\n",
      "\tMin: 2011-01-01\n",
      "\tMax: 2016-10-29\n",
      "\tUnique values: 2104\n",
      "\t5 most frequent values:\n",
      "\t\t2015-10-20:\t18\n",
      "\t\t2014-03-01:\t16\n",
      "\t\t2015-04-27:\t14\n",
      "\t\t2012-07-16:\t12\n",
      "\t\t2011-06-19:\t12\n",
      "  2. 23:20:00\n",
      "\t<class 'str'>\n",
      "\tNulls: False\n",
      "\tUnique values: 1289\n",
      "\t5 most frequent values:\n",
      "\t\t17:00:00:\t268\n",
      "\t\t18:00:00:\t247\n",
      "\t\t16:00:00:\t246\n",
      "\t\t12:00:00:\t235\n",
      "\t\t20:00:00:\t224\n",
      "\tMax length: 8\n",
      "  3. 4E\n",
      "\t<class 'str'>\n",
      "\tNulls: False\n",
      "\tUnique values: 69\n",
      "\t5 most frequent values:\n",
      "\t\t4E:\t1651\n",
      "\t\t6D:\t1339\n",
      "\t\t5A:\t966\n",
      "\t\t7A:\t880\n",
      "\t\t6G:\t568\n",
      "\tMax length: 4\n",
      "  4. 1700 PONCABIRD PS\n",
      "\t<class 'str'>\n",
      "\tNulls: True\n",
      "\tUnique values: 6281\n",
      "\t5 most frequent values:\n",
      "\t\t300 LIGHT ST:\t24\n",
      "\t\t200 E PRATT ST:\t24\n",
      "\t\t3200 TIOGA PW:\t17\n",
      "\t\t6300 EASTERN AV:\t17\n",
      "\t\t0 MARKET PL:\t16\n",
      "\tMax length: 38\n",
      "  5. COMMON ASSAULT\n",
      "\t<class 'str'>\n",
      "\tNulls: False\n",
      "\tUnique values: 15\n",
      "\t5 most frequent values:\n",
      "\t\tLARCENY:\t2284\n",
      "\t\tCOMMON ASSAULT:\t1651\n",
      "\t\tBURGLARY:\t1604\n",
      "\t\tLARCENY FROM AUTO:\t1339\n",
      "\t\tAGG. ASSAULT:\t940\n",
      "\tMax length: 20\n",
      "  6. O\n",
      "\t<class 'str'>\n",
      "\tNulls: True\n",
      "\tValues: O, Outside, Inside, I\n",
      "  7. HANDS\n",
      "\t<class 'str'>\n",
      "\tNulls: True\n",
      "\tValues: HANDS, FIREARM, KNIFE, OTHER\n",
      "  8. 233\n",
      "\t<class 'int'>\n",
      "\tNulls: True\n",
      "\tMin: 111\n",
      "\tMax: 944\n",
      "\tSum: 5024031\n",
      "\tMean: 502.7047228337002\n",
      "\tMedian: 444.0\n",
      "\tStandard Deviation: 261.10989945129324\n",
      "\tUnique values: 137\n",
      "\t5 most frequent values:\n",
      "\t\t111:\t337\n",
      "\t\t212:\t191\n",
      "\t\t913:\t181\n",
      "\t\t922:\t174\n",
      "\t\t211:\t164\n",
      "  9. SOUTHEASTERN\n",
      "\t<class 'str'>\n",
      "\tNulls: True\n",
      "\tUnique values: 10\n",
      "\t5 most frequent values:\n",
      "\t\tNORTHEASTERN:\t1608\n",
      "\t\tSOUTHEASTERN:\t1402\n",
      "\t\tCENTRAL:\t1182\n",
      "\t\tSOUTHERN:\t1159\n",
      "\t\tNORTHERN:\t1103\n",
      "\tMax length: 12\n",
      " 10. Canton Industrial Area\n",
      "\t<class 'str'>\n",
      "\tNulls: True\n",
      "\tUnique values: 272\n",
      "\t5 most frequent values:\n",
      "\t\tDowntown:\t332\n",
      "\t\tFrankford:\t241\n",
      "\t\tBelair-Edison:\t215\n",
      "\t\tBrooklyn:\t182\n",
      "\t\tCherry Hill:\t155\n",
      "\tMax length: 33\n",
      " 11. (39.2728900000, -76.5531300000)\n",
      "\t<class 'str'>\n",
      "\tNulls: True\n",
      "\tUnique values: 8212\n",
      "\t5 most frequent values:\n",
      "\t\t(39.2876100000, -76.5398200000):\t23\n",
      "\t\t(39.3180000000, -76.6582100000):\t23\n",
      "\t\t(39.3186800000, -76.6539900000):\t20\n",
      "\t\t(39.2850000000, -76.6130900000):\t20\n",
      "\t\t(39.2865900000, -76.6120400000):\t18\n",
      "\tMax length: 31\n",
      " 12. 1\n",
      "\t<class 'int'>\n",
      "\tNulls: False\n",
      "\tValues: 1\n",
      "\n",
      "Row count: 9999\n"
     ]
    }
   ],
   "source": [
    "!shuf -n 10000 rows.csv | csvstat"
   ]
  },
  {
   "cell_type": "code",
   "execution_count": 7,
   "metadata": {
    "collapsed": false
   },
   "outputs": [
    {
     "name": "stdout",
     "output_type": "stream",
     "text": [
      "  1: CrimeDate\r\n",
      "  2: CrimeTime\r\n",
      "  3: CrimeCode\r\n",
      "  4: Location\r\n",
      "  5: Description\r\n",
      "  6: Inside/Outside\r\n",
      "  7: Weapon\r\n",
      "  8: Post\r\n",
      "  9: District\r\n",
      " 10: Neighborhood\r\n",
      " 11: Location 1\r\n",
      " 12: Total Incidents\r\n"
     ]
    }
   ],
   "source": [
    "!csvcut -n rows.csv"
   ]
  },
  {
   "cell_type": "markdown",
   "metadata": {},
   "source": [
    "## Problem 2 - define a database model, load the data, and explore (20 points)\n",
    "\n",
    "Based on what you found above, create and connect to a new database, define a database table in it, and load this dataset into it.  You may use either of the methods for this step you have seen in earlier class notebooks.  You may choose to eliminate variables/columns if they are not relevant or interesting to you - explain your reasoning if you do.  Either way, you should load a majority of the columns present in the source dataset as it is in its raw form into the database, and all of its rows.\n",
    "\n",
    "Once your data has loaded successfully, run a `COUNT(*)` query to verify that all the data has loaded correctly.\n",
    "\n",
    "Explore the data to zero in on a few themes you would like to further study analytically.  Discuss columns that present opportunities for extraction into dimensions, and identify the specific columns that contain facts you want to measure."
   ]
  },
  {
   "cell_type": "code",
   "execution_count": 12,
   "metadata": {
    "collapsed": false
   },
   "outputs": [
    {
     "name": "stdout",
     "output_type": "stream",
     "text": [
      "The sql extension is already loaded. To reload it, use:\n",
      "  %reload_ext sql\n",
      "[sudo] password for jovyan: Restarting PostgreSQL 9.5 database server: main.\n",
      "createdb: database creation failed: ERROR:  database \"BaltimoreCrime\" already exists\n"
     ]
    },
    {
     "data": {
      "text/plain": [
       "'Connected: dbuser@BaltimoreCrime'"
      ]
     },
     "execution_count": 12,
     "metadata": {},
     "output_type": "execute_result"
    }
   ],
   "source": [
    "%load_ext sql\n",
    "!echo 'redspot' | sudo -S service postgresql restart\n",
    "!createdb -U dbuser BaltimoreCrime\n",
    "%sql postgresql://dbuser@localhost:5432/BaltimoreCrime"
   ]
  },
  {
   "cell_type": "code",
   "execution_count": 13,
   "metadata": {
    "collapsed": false
   },
   "outputs": [
    {
     "name": "stdout",
     "output_type": "stream",
     "text": [
      "(psycopg2.OperationalError) terminating connection due to administrator command\n",
      "server closed the connection unexpectedly\n",
      "\tThis probably means the server terminated abnormally\n",
      "\tbefore or while processing the request.\n",
      " [SQL: 'DROP TABLE IF EXISTS BaltimoreCrime;']\n"
     ]
    }
   ],
   "source": [
    "%%sql\n",
    "DROP TABLE IF EXISTS BaltimoreCrime;\n",
    "CREATE TABLE BaltimoreCrime (\n",
    "    CrimeDate TIMESTAMP,\n",
    "    CrimeTime VARCHAR(64),\n",
    "    CrimeCode VARCHAR(64),\n",
    "    Location VARCHAR(64),\n",
    "    Description VARCHAR(64),\n",
    "    Inside/Outside VARCHAR(64),\n",
    "    Weapon VARCHAR(64),\n",
    "    Post INTEGER,\n",
    "    District VARCHAR(64),\n",
    "    Neighborhood VARCHAR(64),\n",
    "    Location_1 VARCHAR(64),\n",
    "    Total_Incidents INTEGER\n",
    ")"
   ]
  },
  {
   "cell_type": "code",
   "execution_count": 14,
   "metadata": {
    "collapsed": false
   },
   "outputs": [
    {
     "name": "stdout",
     "output_type": "stream",
     "text": [
      "(psycopg2.ProgrammingError) relation \"baltimorecrime\" does not exist\n",
      " [SQL: 'COPY BaltimoreCrime FROM \\'/home/jovyan/work/rows.csv\\'\\nCSV\\nHEADER\\nQUOTE \\'\"\\'\\nDELIMITER \\',\\';']\n"
     ]
    }
   ],
   "source": [
    "%%sql\n",
    "COPY BaltimoreCrime FROM '/home/jovyan/work/rows.csv'\n",
    "CSV\n",
    "HEADER\n",
    "QUOTE '\"'\n",
    "DELIMITER ',';"
   ]
  },
  {
   "cell_type": "markdown",
   "metadata": {},
   "source": [
    "## Problem 3 - define a star schema, and load your data into it (30 points)\n",
    "\n",
    "Define a star schema consisting of at least one fact table and at least two dimensions.  Transform your source data into the new fact table and dimensions.  Discuss your key modeling decisions.\n",
    "\n",
    "Document your star schema with a diagram.  There several tools available for this, such as Google Docs and Microsoft Visio."
   ]
  },
  {
   "cell_type": "markdown",
   "metadata": {},
   "source": [
    "## Problem 4 - explore your data in its new schema (30 points)\n",
    "\n",
    "Strictly using the dimensional model tables you defined and populated for Problem 3, explore your data in its new form.  Use any of the query strategies we've seen in class, including transformations, aggregates, subqueries, rollups, and, of course, joins.  Add plots to highlight particular themes that stand out.  Describe your thinking and observations along the way."
   ]
  },
  {
   "cell_type": "markdown",
   "metadata": {},
   "source": [
    "## Bonus (10 points for one of A or B)\n",
    "\n",
    "\n",
    "### Option A - Automating ETL\n",
    "\n",
    "Consider the work you did to load your original raw dataset and then transform it into a dimensional model for analysis.  What would it take to automate this process?  How often would you need to update the data?  Could you easily automate any data cleaning steps?  What checks would you need to put in place to ensure quality?  Would humans need to be involved, or could you automate it all?\n",
    "\n",
    "Discuss.\n",
    "\n",
    "\n",
    "### Option B - Augmenting dimensions\n",
    "\n",
    "Considering your dimensional model, what external data could you find to augment it?  As in the case of bike trips, where weather might provide an interesting added dimension/context not present in the original data, you can probably find another source of data to complement your own model.  Identify one such source and add it to your model, demonstrating its value with a few new queries."
   ]
  }
 ],
 "metadata": {
  "anaconda-cloud": {},
  "kernelspec": {
   "display_name": "Python 3",
   "language": "python",
   "name": "python3"
  },
  "language_info": {
   "codemirror_mode": {
    "name": "ipython",
    "version": 3
   },
   "file_extension": ".py",
   "mimetype": "text/x-python",
   "name": "python",
   "nbconvert_exporter": "python",
   "pygments_lexer": "ipython3",
   "version": "3.5.2"
  }
 },
 "nbformat": 4,
 "nbformat_minor": 1
}
