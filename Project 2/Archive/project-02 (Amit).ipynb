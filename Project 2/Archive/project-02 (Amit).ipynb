{
 "cells": [
  {
   "cell_type": "markdown",
   "metadata": {},
   "source": [
    "# Project 02 - Due Friday, November 11 at 12pm\n",
    "\n",
    "*Objectives*: Gain experience loading a transactional dataset into a relational database model you define yourself and using SQL to explore its contents. Transform the data into a star schema, documenting the schema visually, and explore the transformed data analytically by writing and executing a number of SQL queries using common syntax and functions and describing your findings.  Gain practice working on these tasks with a partner.\n",
    "\n",
    "*Grading criteria*: The tasks should all be completed, and questions should all be answered with SQL queries, diagrams, and charts in the space provided, unless a text answer is requested.  The notebook itself should be completely reproducible at datanotebook.org, from start to finish: another person should be able to use the same code to obtain the same results as yours.  Note that you will receive no more than partial credit if you do not add text/markdown cells explaining your thinking at each major step in each problem.\n",
    "\n",
    "*Attestation*: **Work in pairs**.  At the end of your submitted notebook, identify the work each partner performed and attest that each contributed substantially to the work.\n",
    "\n",
    "*Deadline*: Friday, November 11, 12pm.  One member of each pair must submit your notebook to Blackboard; you should not both submit it separately.  You may each push a copy to your own GitHub repository.\n",
    "\n",
    "\n",
    "## Setup - select and obtain data\n",
    "\n",
    "The US City Open Data Census has a variety of [transactional data from all over the country](http://us-city.census.okfn.org/).  Select one topic and one city from this Census, download the data, and explain your reason for this choice before proceeding.  Provide a link to the web page for the data set you've chosen.\n",
    "\n",
    "I strongly encourage you to select a dataset from among the following topics:  Crime, Property Assessment, Campaign Finance Contributions, Service Requests (311), and Web Analytics.\n",
    "\n",
    "By *transactional* data I mean records at the grain of one event per business process.  In the case of Service Requests (311), for example, that would require data at the level of each individual report of a service request.  If this isn't clear, think about the bike trip data - each individual ride was included - and look for data at that level of event/process specificity.  Avoid data like the Connecticut boating data, which was summarized by year, not individual transactions.\n",
    "\n",
    "Please aim for a dataset of at least 10,000 individual records, but less than 250,000 records.  A little more or a little less is okay, but try to stay within these limits."
   ]
  },
  {
   "cell_type": "code",
   "execution_count": 1,
   "metadata": {
    "collapsed": false
   },
   "outputs": [
    {
     "name": "stdout",
     "output_type": "stream",
     "text": [
      "--2016-11-04 23:41:50--  https://data.baltimorecity.gov/api/views/wsfq-mvij/rows.csv\n",
      "Resolving data.baltimorecity.gov (data.baltimorecity.gov)... 52.206.140.205\n",
      "Connecting to data.baltimorecity.gov (data.baltimorecity.gov)|52.206.140.205|:443... connected.\n",
      "HTTP request sent, awaiting response... 200 OK\n",
      "Length: unspecified [text/csv]\n",
      "Saving to: ‘rows.csv’\n",
      "\n",
      "rows.csv                [   <=>                ]  32.92M  70.8MB/s   in 0.5s   \n",
      "\n",
      "Last-modified header invalid -- time-stamp ignored.\n",
      "2016-11-04 23:41:50 (70.8 MB/s) - ‘rows.csv’ saved [34515653]\n",
      "\n"
     ]
    }
   ],
   "source": [
    "!wget https://data.baltimorecity.gov/api/views/wsfq-mvij/rows.csv"
   ]
  },
  {
   "cell_type": "markdown",
   "metadata": {},
   "source": [
    "## Problem 1 - examine the data (20 points)\n",
    "\n",
    "Use `csvstat`, `pandas`, or other tools as you see fit and observe the contents of your dataset.  Review important points from any metadata provided.  Describe what you see:  What do the columns mean?  Are there null values?  Which columns interest you the most?  Which columns present some opportunities, challenges, or questions you would like to ask?"
   ]
  },
  {
   "cell_type": "code",
   "execution_count": 2,
   "metadata": {
    "collapsed": false
   },
   "outputs": [
    {
     "name": "stdout",
     "output_type": "stream",
     "text": [
      "283615 rows.csv\r\n"
     ]
    }
   ],
   "source": [
    "!wc -l rows.csv"
   ]
  },
  {
   "cell_type": "code",
   "execution_count": 3,
   "metadata": {
    "collapsed": false
   },
   "outputs": [
    {
     "name": "stdout",
     "output_type": "stream",
     "text": [
      "  1. 01/21/2015\n",
      "\t<class 'datetime.date'>\n",
      "\tNulls: False\n",
      "\tMin: 2011-01-01\n",
      "\tMax: 2016-10-29\n",
      "\tUnique values: 2102\n",
      "\t5 most frequent values:\n",
      "\t\t2013-11-18:\t13\n",
      "\t\t2013-08-31:\t13\n",
      "\t\t2014-08-29:\t12\n",
      "\t\t2013-07-07:\t12\n",
      "\t\t2013-05-22:\t12\n",
      "  2. 23:40:00\n",
      "\t<class 'str'>\n",
      "\tNulls: False\n",
      "\tUnique values: 1278\n",
      "\t5 most frequent values:\n",
      "\t\t20:00:00:\t229\n",
      "\t\t18:00:00:\t227\n",
      "\t\t19:00:00:\t223\n",
      "\t\t22:00:00:\t223\n",
      "\t\t16:00:00:\t212\n",
      "\tMax length: 8\n",
      "  3. 4E\n",
      "\t<class 'str'>\n",
      "\tNulls: False\n",
      "\tUnique values: 69\n",
      "\t5 most frequent values:\n",
      "\t\t4E:\t1697\n",
      "\t\t6D:\t1336\n",
      "\t\t5A:\t958\n",
      "\t\t7A:\t900\n",
      "\t\t6G:\t545\n",
      "\tMax length: 4\n",
      "  4. 2100 WASHINGTON BLVD\n",
      "\t<class 'str'>\n",
      "\tNulls: True\n",
      "\tUnique values: 6224\n",
      "\t5 most frequent values:\n",
      "\t\t1200 W PRATT ST:\t24\n",
      "\t\t300 LIGHT ST:\t23\n",
      "\t\t200 E PRATT ST:\t20\n",
      "\t\t1500 RUSSELL ST:\t20\n",
      "\t\t3200 TIOGA PW:\t17\n",
      "\tMax length: 37\n",
      "  5. COMMON ASSAULT\n",
      "\t<class 'str'>\n",
      "\tNulls: False\n",
      "\tUnique values: 15\n",
      "\t5 most frequent values:\n",
      "\t\tLARCENY:\t2156\n",
      "\t\tCOMMON ASSAULT:\t1697\n",
      "\t\tBURGLARY:\t1564\n",
      "\t\tLARCENY FROM AUTO:\t1336\n",
      "\t\tAGG. ASSAULT:\t975\n",
      "\tMax length: 20\n",
      "  6. O\n",
      "\t<class 'str'>\n",
      "\tNulls: True\n",
      "\tValues: Inside, I, Outside, O\n",
      "  7. HANDS\n",
      "\t<class 'str'>\n",
      "\tNulls: True\n",
      "\tValues: FIREARM, HANDS, OTHER, KNIFE\n",
      "  8. 935\n",
      "\t<class 'int'>\n",
      "\tNulls: True\n",
      "\tMin: 111\n",
      "\tMax: 943\n",
      "\tSum: 5051962\n",
      "\tMean: 505.49949969981986\n",
      "\tMedian: 511.0\n",
      "\tStandard Deviation: 261.29745055080247\n",
      "\tUnique values: 135\n",
      "\t5 most frequent values:\n",
      "\t\t111:\t346\n",
      "\t\t212:\t160\n",
      "\t\t922:\t157\n",
      "\t\t221:\t154\n",
      "\t\t443:\t151\n",
      "  9. SOUTHERN\n",
      "\t<class 'str'>\n",
      "\tNulls: True\n",
      "\tUnique values: 10\n",
      "\t5 most frequent values:\n",
      "\t\tNORTHEASTERN:\t1562\n",
      "\t\tSOUTHEASTERN:\t1333\n",
      "\t\tCENTRAL:\t1199\n",
      "\t\tSOUTHERN:\t1133\n",
      "\t\tNORTHERN:\t1125\n",
      "\tMax length: 12\n",
      " 10. Carroll Park\n",
      "\t<class 'str'>\n",
      "\tNulls: True\n",
      "\tUnique values: 274\n",
      "\t5 most frequent values:\n",
      "\t\tDowntown:\t342\n",
      "\t\tFrankford:\t255\n",
      "\t\tBelair-Edison:\t194\n",
      "\t\tSandtown-Winchester:\t154\n",
      "\t\tCherry Hill:\t142\n",
      "\tMax length: 33\n",
      " 11. (39.2722400000, -76.6461200000)\n",
      "\t<class 'str'>\n",
      "\tNulls: True\n",
      "\tUnique values: 8196\n",
      "\t5 most frequent values:\n",
      "\t\t(39.3180000000, -76.6582100000):\t23\n",
      "\t\t(39.3100300000, -76.6759700000):\t19\n",
      "\t\t(39.2850000000, -76.6130900000):\t19\n",
      "\t\t(39.2865900000, -76.6120400000):\t16\n",
      "\t\t(39.2740800000, -76.6276900000):\t15\n",
      "\tMax length: 31\n",
      " 12. 1\n",
      "\t<class 'int'>\n",
      "\tNulls: False\n",
      "\tValues: 1\n",
      "\n",
      "Row count: 9999\n"
     ]
    }
   ],
   "source": [
    "!shuf -n 10000 rows.csv | csvstat"
   ]
  },
  {
   "cell_type": "code",
   "execution_count": 4,
   "metadata": {
    "collapsed": false
   },
   "outputs": [
    {
     "name": "stdout",
     "output_type": "stream",
     "text": [
      "  1: CrimeDate\r\n",
      "  2: CrimeTime\r\n",
      "  3: CrimeCode\r\n",
      "  4: Location\r\n",
      "  5: Description\r\n",
      "  6: Inside/Outside\r\n",
      "  7: Weapon\r\n",
      "  8: Post\r\n",
      "  9: District\r\n",
      " 10: Neighborhood\r\n",
      " 11: Location 1\r\n",
      " 12: Total Incidents\r\n"
     ]
    }
   ],
   "source": [
    "!csvcut -n rows.csv"
   ]
  },
  {
   "cell_type": "markdown",
   "metadata": {},
   "source": [
    "## Problem 2 - define a database model, load the data, and explore (20 points)\n",
    "\n",
    "Based on what you found above, create and connect to a new database, define a database table in it, and load this dataset into it.  You may use either of the methods for this step you have seen in earlier class notebooks.  You may choose to eliminate variables/columns if they are not relevant or interesting to you - explain your reasoning if you do.  Either way, you should load a majority of the columns present in the source dataset as it is in its raw form into the database, and all of its rows.\n",
    "\n",
    "Once your data has loaded successfully, run a `COUNT(*)` query to verify that all the data has loaded correctly.\n",
    "\n",
    "Explore the data to zero in on a few themes you would like to further study analytically.  Discuss columns that present opportunities for extraction into dimensions, and identify the specific columns that contain facts you want to measure."
   ]
  },
  {
   "cell_type": "code",
   "execution_count": 5,
   "metadata": {
    "collapsed": false
   },
   "outputs": [
    {
     "name": "stderr",
     "output_type": "stream",
     "text": [
      "/opt/conda/lib/python3.5/site-packages/IPython/config.py:13: ShimWarning: The `IPython.config` package has been deprecated. You should import from traitlets.config instead.\n",
      "  \"You should import from traitlets.config instead.\", ShimWarning)\n",
      "/opt/conda/lib/python3.5/site-packages/IPython/utils/traitlets.py:5: UserWarning: IPython.utils.traitlets has moved to a top-level traitlets package.\n",
      "  warn(\"IPython.utils.traitlets has moved to a top-level traitlets package.\")\n"
     ]
    },
    {
     "name": "stdout",
     "output_type": "stream",
     "text": [
      "[sudo] password for jovyan: Restarting PostgreSQL 9.5 database server: main.\n"
     ]
    },
    {
     "data": {
      "text/plain": [
       "'Connected: dbuser@BaltimoreCrime'"
      ]
     },
     "execution_count": 5,
     "metadata": {},
     "output_type": "execute_result"
    }
   ],
   "source": [
    "%load_ext sql\n",
    "!echo 'redspot' | sudo -S service postgresql restart\n",
    "!createdb -U dbuser BaltimoreCrime\n",
    "%sql postgresql://dbuser@localhost:5432/BaltimoreCrime"
   ]
  },
  {
   "cell_type": "code",
   "execution_count": 7,
   "metadata": {
    "collapsed": false
   },
   "outputs": [
    {
     "name": "stdout",
     "output_type": "stream",
     "text": [
      "Done.\n",
      "Done.\n"
     ]
    },
    {
     "data": {
      "text/plain": [
       "[]"
      ]
     },
     "execution_count": 7,
     "metadata": {},
     "output_type": "execute_result"
    }
   ],
   "source": [
    "%%sql\n",
    "DROP TABLE IF EXISTS BaltimoreCrime;\n",
    "CREATE TABLE BaltimoreCrime (\n",
    "    CrimeDate TIMESTAMP,\n",
    "    CrimeTime VARCHAR(64),\n",
    "    CrimeCode VARCHAR(64),\n",
    "    Location VARCHAR(64),\n",
    "    Description VARCHAR(64),\n",
    "    Inside_Outside VARCHAR(64),\n",
    "    Weapon VARCHAR(64),\n",
    "    Post INTEGER,\n",
    "    District VARCHAR(64),\n",
    "    Neighborhood VARCHAR(64),\n",
    "    Location_1 VARCHAR(64),\n",
    "    Total_Incidents INTEGER\n",
    ")"
   ]
  },
  {
   "cell_type": "code",
   "execution_count": 8,
   "metadata": {
    "collapsed": false
   },
   "outputs": [
    {
     "name": "stdout",
     "output_type": "stream",
     "text": [
      "283614 rows affected.\n"
     ]
    },
    {
     "data": {
      "text/plain": [
       "[]"
      ]
     },
     "execution_count": 8,
     "metadata": {},
     "output_type": "execute_result"
    }
   ],
   "source": [
    "%%sql\n",
    "COPY BaltimoreCrime FROM '/home/jovyan/work/rows.csv'\n",
    "CSV\n",
    "HEADER\n",
    "QUOTE '\"'\n",
    "DELIMITER ',';"
   ]
  },
  {
   "cell_type": "markdown",
   "metadata": {},
   "source": [
    "We used COUNT() to verify that the data was all loaded into the table."
   ]
  },
  {
   "cell_type": "code",
   "execution_count": 10,
   "metadata": {
    "collapsed": false
   },
   "outputs": [
    {
     "name": "stdout",
     "output_type": "stream",
     "text": [
      "1 rows affected.\n"
     ]
    },
    {
     "data": {
      "text/html": [
       "<table>\n",
       "    <tr>\n",
       "        <th>count</th>\n",
       "    </tr>\n",
       "    <tr>\n",
       "        <td>283614</td>\n",
       "    </tr>\n",
       "</table>"
      ],
      "text/plain": [
       "[(283614,)]"
      ]
     },
     "execution_count": 10,
     "metadata": {},
     "output_type": "execute_result"
    }
   ],
   "source": [
    "%%sql\n",
    "SELECT COUNT(*) FROM BaltimoreCrime;"
   ]
  },
  {
   "cell_type": "markdown",
   "metadata": {},
   "source": [
    "We checked the first five rows to see that the data formats carried over properly."
   ]
  },
  {
   "cell_type": "code",
   "execution_count": 13,
   "metadata": {
    "collapsed": false
   },
   "outputs": [
    {
     "name": "stdout",
     "output_type": "stream",
     "text": [
      "5 rows affected.\n"
     ]
    },
    {
     "data": {
      "text/html": [
       "<table>\n",
       "    <tr>\n",
       "        <th>crimedate</th>\n",
       "        <th>crimetime</th>\n",
       "        <th>crimecode</th>\n",
       "        <th>location</th>\n",
       "        <th>description</th>\n",
       "        <th>inside_outside</th>\n",
       "        <th>weapon</th>\n",
       "        <th>post</th>\n",
       "        <th>district</th>\n",
       "        <th>neighborhood</th>\n",
       "        <th>location_1</th>\n",
       "        <th>total_incidents</th>\n",
       "    </tr>\n",
       "    <tr>\n",
       "        <td>2016-10-29 00:00:00</td>\n",
       "        <td>00:01:00</td>\n",
       "        <td>6E</td>\n",
       "        <td>4700 FURLEY AVE</td>\n",
       "        <td>LARCENY</td>\n",
       "        <td>O</td>\n",
       "        <td>None</td>\n",
       "        <td>443</td>\n",
       "        <td>NORTHEASTERN</td>\n",
       "        <td>Frankford</td>\n",
       "        <td>(39.3285900000, -76.5517800000)</td>\n",
       "        <td>1</td>\n",
       "    </tr>\n",
       "    <tr>\n",
       "        <td>2016-10-29 00:00:00</td>\n",
       "        <td>00:01:00</td>\n",
       "        <td>7A</td>\n",
       "        <td>3500 LIBERTY HEIGHTS AVE</td>\n",
       "        <td>AUTO THEFT</td>\n",
       "        <td>O</td>\n",
       "        <td>None</td>\n",
       "        <td>642</td>\n",
       "        <td>NORTHWESTERN</td>\n",
       "        <td>Forest Park</td>\n",
       "        <td>(39.3250400000, -76.6748500000)</td>\n",
       "        <td>1</td>\n",
       "    </tr>\n",
       "    <tr>\n",
       "        <td>2016-10-29 00:00:00</td>\n",
       "        <td>00:58:00</td>\n",
       "        <td>6C</td>\n",
       "        <td>0 LIGHT ST</td>\n",
       "        <td>LARCENY</td>\n",
       "        <td>I</td>\n",
       "        <td>None</td>\n",
       "        <td>111</td>\n",
       "        <td>CENTRAL</td>\n",
       "        <td>Downtown</td>\n",
       "        <td>(39.2884300000, -76.6137200000)</td>\n",
       "        <td>1</td>\n",
       "    </tr>\n",
       "    <tr>\n",
       "        <td>2016-10-29 00:00:00</td>\n",
       "        <td>01:00:00</td>\n",
       "        <td>6D</td>\n",
       "        <td>2200 BERLIN ST</td>\n",
       "        <td>LARCENY FROM AUTO</td>\n",
       "        <td>O</td>\n",
       "        <td>None</td>\n",
       "        <td>921</td>\n",
       "        <td>SOUTHERN</td>\n",
       "        <td>Saint Paul</td>\n",
       "        <td>(39.2695600000, -76.6447300000)</td>\n",
       "        <td>1</td>\n",
       "    </tr>\n",
       "    <tr>\n",
       "        <td>2016-10-29 00:00:00</td>\n",
       "        <td>01:00:00</td>\n",
       "        <td>7A</td>\n",
       "        <td>2800 E FEDERAL ST</td>\n",
       "        <td>AUTO THEFT</td>\n",
       "        <td>O</td>\n",
       "        <td>None</td>\n",
       "        <td>332</td>\n",
       "        <td>EASTERN</td>\n",
       "        <td>Berea</td>\n",
       "        <td>(39.3091700000, -76.5780900000)</td>\n",
       "        <td>1</td>\n",
       "    </tr>\n",
       "</table>"
      ],
      "text/plain": [
       "[(datetime.datetime(2016, 10, 29, 0, 0), '00:01:00', '6E', '4700 FURLEY AVE', 'LARCENY', 'O', None, 443, 'NORTHEASTERN', 'Frankford', '(39.3285900000, -76.5517800000)', 1),\n",
       " (datetime.datetime(2016, 10, 29, 0, 0), '00:01:00', '7A', '3500 LIBERTY HEIGHTS AVE', 'AUTO THEFT', 'O', None, 642, 'NORTHWESTERN', 'Forest Park', '(39.3250400000, -76.6748500000)', 1),\n",
       " (datetime.datetime(2016, 10, 29, 0, 0), '00:58:00', '6C', '0 LIGHT ST', 'LARCENY', 'I', None, 111, 'CENTRAL', 'Downtown', '(39.2884300000, -76.6137200000)', 1),\n",
       " (datetime.datetime(2016, 10, 29, 0, 0), '01:00:00', '6D', '2200 BERLIN ST', 'LARCENY FROM AUTO', 'O', None, 921, 'SOUTHERN', 'Saint Paul', '(39.2695600000, -76.6447300000)', 1),\n",
       " (datetime.datetime(2016, 10, 29, 0, 0), '01:00:00', '7A', '2800 E FEDERAL ST', 'AUTO THEFT', 'O', None, 332, 'EASTERN', 'Berea', '(39.3091700000, -76.5780900000)', 1)]"
      ]
     },
     "execution_count": 13,
     "metadata": {},
     "output_type": "execute_result"
    }
   ],
   "source": [
    "%%sql\n",
    "SELECT *\n",
    "FROM BaltimoreCrime\n",
    "LIMIT 5;"
   ]
  },
  {
   "cell_type": "markdown",
   "metadata": {},
   "source": [
    "To make the data easier to explore, we separated the data column into year, month, and day."
   ]
  },
  {
   "cell_type": "code",
   "execution_count": 15,
   "metadata": {
    "collapsed": false
   },
   "outputs": [
    {
     "name": "stdout",
     "output_type": "stream",
     "text": [
      "Done.\n"
     ]
    },
    {
     "data": {
      "text/plain": [
       "[]"
      ]
     },
     "execution_count": 15,
     "metadata": {},
     "output_type": "execute_result"
    }
   ],
   "source": [
    "%%sql\n",
    "ALTER TABLE BaltimoreCrime\n",
    "ADD COLUMN year NUMERIC;"
   ]
  },
  {
   "cell_type": "code",
   "execution_count": 16,
   "metadata": {
    "collapsed": false
   },
   "outputs": [
    {
     "name": "stdout",
     "output_type": "stream",
     "text": [
      "Done.\n"
     ]
    },
    {
     "data": {
      "text/plain": [
       "[]"
      ]
     },
     "execution_count": 16,
     "metadata": {},
     "output_type": "execute_result"
    }
   ],
   "source": [
    "%%sql\n",
    "ALTER TABLE BaltimoreCrime\n",
    "ADD COLUMN month NUMERIC;"
   ]
  },
  {
   "cell_type": "code",
   "execution_count": 17,
   "metadata": {
    "collapsed": false
   },
   "outputs": [
    {
     "name": "stdout",
     "output_type": "stream",
     "text": [
      "Done.\n"
     ]
    },
    {
     "data": {
      "text/plain": [
       "[]"
      ]
     },
     "execution_count": 17,
     "metadata": {},
     "output_type": "execute_result"
    }
   ],
   "source": [
    "%%sql\n",
    "ALTER TABLE BaltimoreCrime\n",
    "ADD COLUMN day NUMERIC;"
   ]
  },
  {
   "cell_type": "code",
   "execution_count": 18,
   "metadata": {
    "collapsed": false
   },
   "outputs": [
    {
     "name": "stdout",
     "output_type": "stream",
     "text": [
      "283614 rows affected.\n"
     ]
    },
    {
     "data": {
      "text/plain": [
       "[]"
      ]
     },
     "execution_count": 18,
     "metadata": {},
     "output_type": "execute_result"
    }
   ],
   "source": [
    "%%sql\n",
    "UPDATE BaltimoreCrime\n",
    "SET year = EXTRACT(YEAR FROM crimedate), \n",
    "    month = EXTRACT(MONTH FROM crimedate),\n",
    "    day = EXTRACT(DAY FROM crimedate);"
   ]
  },
  {
   "cell_type": "markdown",
   "metadata": {},
   "source": [
    "The following cell lets us test that the year, month, and day columns were created and filled correctly."
   ]
  },
  {
   "cell_type": "code",
   "execution_count": 19,
   "metadata": {
    "collapsed": false
   },
   "outputs": [
    {
     "name": "stdout",
     "output_type": "stream",
     "text": [
      "5 rows affected.\n"
     ]
    },
    {
     "data": {
      "text/html": [
       "<table>\n",
       "    <tr>\n",
       "        <th>crimedate</th>\n",
       "        <th>crimetime</th>\n",
       "        <th>crimecode</th>\n",
       "        <th>location</th>\n",
       "        <th>description</th>\n",
       "        <th>inside_outside</th>\n",
       "        <th>weapon</th>\n",
       "        <th>post</th>\n",
       "        <th>district</th>\n",
       "        <th>neighborhood</th>\n",
       "        <th>location_1</th>\n",
       "        <th>total_incidents</th>\n",
       "        <th>year</th>\n",
       "        <th>month</th>\n",
       "        <th>day</th>\n",
       "    </tr>\n",
       "    <tr>\n",
       "        <td>2016-10-28 00:00:00</td>\n",
       "        <td>11:26:00</td>\n",
       "        <td>3CF</td>\n",
       "        <td>None</td>\n",
       "        <td>ROBBERY - COMMERCIAL</td>\n",
       "        <td>I</td>\n",
       "        <td>FIREARM</td>\n",
       "        <td>731</td>\n",
       "        <td>WESTERN</td>\n",
       "        <td>None</td>\n",
       "        <td>None</td>\n",
       "        <td>1</td>\n",
       "        <td>2016</td>\n",
       "        <td>10</td>\n",
       "        <td>28</td>\n",
       "    </tr>\n",
       "    <tr>\n",
       "        <td>2016-10-27 00:00:00</td>\n",
       "        <td>03:15:00</td>\n",
       "        <td>4F</td>\n",
       "        <td>None</td>\n",
       "        <td>ASSAULT BY THREAT</td>\n",
       "        <td>I</td>\n",
       "        <td>None</td>\n",
       "        <td>614</td>\n",
       "        <td>NORTHWESTERN</td>\n",
       "        <td>None</td>\n",
       "        <td>None</td>\n",
       "        <td>1</td>\n",
       "        <td>2016</td>\n",
       "        <td>10</td>\n",
       "        <td>27</td>\n",
       "    </tr>\n",
       "    <tr>\n",
       "        <td>2016-08-17 00:00:00</td>\n",
       "        <td>17:00:00</td>\n",
       "        <td>6E</td>\n",
       "        <td>None</td>\n",
       "        <td>LARCENY</td>\n",
       "        <td>O</td>\n",
       "        <td>None</td>\n",
       "        <td>332</td>\n",
       "        <td>EASTERN</td>\n",
       "        <td>None</td>\n",
       "        <td>None</td>\n",
       "        <td>1</td>\n",
       "        <td>2016</td>\n",
       "        <td>8</td>\n",
       "        <td>17</td>\n",
       "    </tr>\n",
       "    <tr>\n",
       "        <td>2016-10-26 00:00:00</td>\n",
       "        <td>16:40:00</td>\n",
       "        <td>6C</td>\n",
       "        <td>5300 YORK RD</td>\n",
       "        <td>LARCENY</td>\n",
       "        <td>I</td>\n",
       "        <td>None</td>\n",
       "        <td>523</td>\n",
       "        <td>NORTHERN</td>\n",
       "        <td>Homeland</td>\n",
       "        <td>(39.3550800000, -76.6099100000)</td>\n",
       "        <td>1</td>\n",
       "        <td>2016</td>\n",
       "        <td>10</td>\n",
       "        <td>26</td>\n",
       "    </tr>\n",
       "    <tr>\n",
       "        <td>2015-12-18 00:00:00</td>\n",
       "        <td>15:00:00</td>\n",
       "        <td>3B</td>\n",
       "        <td>None</td>\n",
       "        <td>ROBBERY - STREET</td>\n",
       "        <td>O</td>\n",
       "        <td>None</td>\n",
       "        <td>224</td>\n",
       "        <td>SOUTHEASTERN</td>\n",
       "        <td>None</td>\n",
       "        <td>None</td>\n",
       "        <td>1</td>\n",
       "        <td>2015</td>\n",
       "        <td>12</td>\n",
       "        <td>18</td>\n",
       "    </tr>\n",
       "</table>"
      ],
      "text/plain": [
       "[(datetime.datetime(2016, 10, 28, 0, 0), '11:26:00', '3CF', None, 'ROBBERY - COMMERCIAL', 'I', 'FIREARM', 731, 'WESTERN', None, None, 1, Decimal('2016'), Decimal('10'), Decimal('28')),\n",
       " (datetime.datetime(2016, 10, 27, 0, 0), '03:15:00', '4F', None, 'ASSAULT BY THREAT', 'I', None, 614, 'NORTHWESTERN', None, None, 1, Decimal('2016'), Decimal('10'), Decimal('27')),\n",
       " (datetime.datetime(2016, 8, 17, 0, 0), '17:00:00', '6E', None, 'LARCENY', 'O', None, 332, 'EASTERN', None, None, 1, Decimal('2016'), Decimal('8'), Decimal('17')),\n",
       " (datetime.datetime(2016, 10, 26, 0, 0), '16:40:00', '6C', '5300 YORK RD', 'LARCENY', 'I', None, 523, 'NORTHERN', 'Homeland', '(39.3550800000, -76.6099100000)', 1, Decimal('2016'), Decimal('10'), Decimal('26')),\n",
       " (datetime.datetime(2015, 12, 18, 0, 0), '15:00:00', '3B', None, 'ROBBERY - STREET', 'O', None, 224, 'SOUTHEASTERN', None, None, 1, Decimal('2015'), Decimal('12'), Decimal('18'))]"
      ]
     },
     "execution_count": 19,
     "metadata": {},
     "output_type": "execute_result"
    }
   ],
   "source": [
    "%%sql\n",
    "SELECT *\n",
    "FROM BaltimoreCrime\n",
    "LIMIT 5;"
   ]
  },
  {
   "cell_type": "code",
   "execution_count": null,
   "metadata": {
    "collapsed": true
   },
   "outputs": [],
   "source": []
  },
  {
   "cell_type": "markdown",
   "metadata": {},
   "source": [
    "## Problem 3 - define a star schema, and load your data into it (30 points)\n",
    "\n",
    "Define a star schema consisting of at least one fact table and at least two dimensions.  Transform your source data into the new fact table and dimensions.  Discuss your key modeling decisions.\n",
    "\n",
    "Document your star schema with a diagram.  There several tools available for this, such as Google Docs and Microsoft Visio."
   ]
  },
  {
   "cell_type": "markdown",
   "metadata": {},
   "source": [
    "## Problem 4 - explore your data in its new schema (30 points)\n",
    "\n",
    "Strictly using the dimensional model tables you defined and populated for Problem 3, explore your data in its new form.  Use any of the query strategies we've seen in class, including transformations, aggregates, subqueries, rollups, and, of course, joins.  Add plots to highlight particular themes that stand out.  Describe your thinking and observations along the way."
   ]
  },
  {
   "cell_type": "markdown",
   "metadata": {},
   "source": [
    "## Bonus (10 points for one of A or B)\n",
    "\n",
    "\n",
    "### Option A - Automating ETL\n",
    "\n",
    "Consider the work you did to load your original raw dataset and then transform it into a dimensional model for analysis.  What would it take to automate this process?  How often would you need to update the data?  Could you easily automate any data cleaning steps?  What checks would you need to put in place to ensure quality?  Would humans need to be involved, or could you automate it all?\n",
    "\n",
    "Discuss.\n",
    "\n",
    "\n",
    "### Option B - Augmenting dimensions\n",
    "\n",
    "Considering your dimensional model, what external data could you find to augment it?  As in the case of bike trips, where weather might provide an interesting added dimension/context not present in the original data, you can probably find another source of data to complement your own model.  Identify one such source and add it to your model, demonstrating its value with a few new queries."
   ]
  }
 ],
 "metadata": {
  "anaconda-cloud": {},
  "kernelspec": {
   "display_name": "Python 3",
   "language": "python",
   "name": "python3"
  },
  "language_info": {
   "codemirror_mode": {
    "name": "ipython",
    "version": 3
   },
   "file_extension": ".py",
   "mimetype": "text/x-python",
   "name": "python",
   "nbconvert_exporter": "python",
   "pygments_lexer": "ipython3",
   "version": "3.5.2"
  }
 },
 "nbformat": 4,
 "nbformat_minor": 1
}
