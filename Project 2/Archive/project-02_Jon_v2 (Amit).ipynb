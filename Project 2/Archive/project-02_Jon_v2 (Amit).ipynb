{
 "cells": [
  {
   "cell_type": "markdown",
   "metadata": {},
   "source": [
    "# Project 02 - Due Friday, November 11 at 12pm\n",
    "\n",
    "*Objectives*: Gain experience loading a transactional dataset into a relational database model you define yourself and using SQL to explore its contents. Transform the data into a star schema, documenting the schema visually, and explore the transformed data analytically by writing and executing a number of SQL queries using common syntax and functions and describing your findings.  Gain practice working on these tasks with a partner.\n",
    "\n",
    "*Grading criteria*: The tasks should all be completed, and questions should all be answered with SQL queries, diagrams, and charts in the space provided, unless a text answer is requested.  The notebook itself should be completely reproducible at datanotebook.org, from start to finish: another person should be able to use the same code to obtain the same results as yours.  Note that you will receive no more than partial credit if you do not add text/markdown cells explaining your thinking at each major step in each problem.\n",
    "\n",
    "*Attestation*: **Work in pairs**.  At the end of your submitted notebook, identify the work each partner performed and attest that each contributed substantially to the work.\n",
    "\n",
    "*Deadline*: Friday, November 11, 12pm.  One member of each pair must submit your notebook to Blackboard; you should not both submit it separately.  You may each push a copy to your own GitHub repository.\n",
    "\n",
    "\n",
    "## Setup - select and obtain data\n",
    "\n",
    "The US City Open Data Census has a variety of [transactional data from all over the country](http://us-city.census.okfn.org/).  Select one topic and one city from this Census, download the data, and explain your reason for this choice before proceeding.  Provide a link to the web page for the data set you've chosen.\n",
    "\n",
    "I strongly encourage you to select a dataset from among the following topics:  Crime, Property Assessment, Campaign Finance Contributions, Service Requests (311), and Web Analytics.\n",
    "\n",
    "By *transactional* data I mean records at the grain of one event per business process.  In the case of Service Requests (311), for example, that would require data at the level of each individual report of a service request.  If this isn't clear, think about the bike trip data - each individual ride was included - and look for data at that level of event/process specificity.  Avoid data like the Connecticut boating data, which was summarized by year, not individual transactions.\n",
    "\n",
    "Please aim for a dataset of at least 10,000 individual records, but less than 250,000 records.  A little more or a little less is okay, but try to stay within these limits."
   ]
  },
  {
   "cell_type": "code",
   "execution_count": 1,
   "metadata": {
    "collapsed": false
   },
   "outputs": [
    {
     "name": "stdout",
     "output_type": "stream",
     "text": [
      "--2016-11-06 02:23:55--  https://data.baltimorecity.gov/api/views/wsfq-mvij/rows.csv\n",
      "Resolving data.baltimorecity.gov (data.baltimorecity.gov)... 52.206.140.205\n",
      "Connecting to data.baltimorecity.gov (data.baltimorecity.gov)|52.206.140.205|:443... connected.\n",
      "HTTP request sent, awaiting response... 200 OK\n",
      "Length: unspecified [text/csv]\n",
      "Saving to: ‘rows.csv’\n",
      "\n",
      "rows.csv                [   <=>                ]  32.92M  71.6MB/s   in 0.5s   \n",
      "\n",
      "Last-modified header invalid -- time-stamp ignored.\n",
      "2016-11-06 02:23:56 (71.6 MB/s) - ‘rows.csv’ saved [34515653]\n",
      "\n"
     ]
    }
   ],
   "source": [
    "!wget https://data.baltimorecity.gov/api/views/wsfq-mvij/rows.csv"
   ]
  },
  {
   "cell_type": "markdown",
   "metadata": {},
   "source": [
    "## Problem 1 - examine the data (20 points)\n",
    "\n",
    "Use `csvstat`, `pandas`, or other tools as you see fit and observe the contents of your dataset.  Review important points from any metadata provided.  Describe what you see:  What do the columns mean?  Are there null values?  Which columns interest you the most?  Which columns present some opportunities, challenges, or questions you would like to ask?"
   ]
  },
  {
   "cell_type": "code",
   "execution_count": 2,
   "metadata": {
    "collapsed": false
   },
   "outputs": [
    {
     "name": "stdout",
     "output_type": "stream",
     "text": [
      "283615 rows.csv\r\n"
     ]
    }
   ],
   "source": [
    "!wc -l rows.csv"
   ]
  },
  {
   "cell_type": "code",
   "execution_count": 3,
   "metadata": {
    "collapsed": false
   },
   "outputs": [
    {
     "name": "stdout",
     "output_type": "stream",
     "text": [
      "  1. 03/23/2015\n",
      "\t<class 'datetime.date'>\n",
      "\tNulls: False\n",
      "\tMin: 2011-01-01\n",
      "\tMax: 2016-10-29\n",
      "\tUnique values: 2106\n",
      "\t5 most frequent values:\n",
      "\t\t2015-04-27:\t17\n",
      "\t\t2016-06-11:\t15\n",
      "\t\t2016-06-20:\t15\n",
      "\t\t2011-07-30:\t14\n",
      "\t\t2016-03-17:\t14\n",
      "  2. 07:30:00\n",
      "\t<class 'str'>\n",
      "\tNulls: False\n",
      "\tUnique values: 1283\n",
      "\t5 most frequent values:\n",
      "\t\t18:00:00:\t287\n",
      "\t\t17:00:00:\t248\n",
      "\t\t21:00:00:\t222\n",
      "\t\t16:00:00:\t213\n",
      "\t\t19:00:00:\t209\n",
      "\tMax length: 8\n",
      "  3. 4E\n",
      "\t<class 'str'>\n",
      "\tNulls: False\n",
      "\tUnique values: 67\n",
      "\t5 most frequent values:\n",
      "\t\t4E:\t1636\n",
      "\t\t6D:\t1356\n",
      "\t\t5A:\t952\n",
      "\t\t7A:\t920\n",
      "\t\t6G:\t589\n",
      "\tMax length: 4\n",
      "  4. 3300 CARLISLE AVE\n",
      "\t<class 'str'>\n",
      "\tNulls: True\n",
      "\tUnique values: 6227\n",
      "\t5 most frequent values:\n",
      "\t\t200 E PRATT ST:\t31\n",
      "\t\t300 LIGHT ST:\t21\n",
      "\t\t2400 FREDERICK AV:\t17\n",
      "\t\t0 LIGHT ST:\t16\n",
      "\t\t600 E PRATT ST:\t15\n",
      "\tMax length: 32\n",
      "  5. COMMON ASSAULT\n",
      "\t<class 'str'>\n",
      "\tNulls: False\n",
      "\tUnique values: 15\n",
      "\t5 most frequent values:\n",
      "\t\tLARCENY:\t2196\n",
      "\t\tCOMMON ASSAULT:\t1636\n",
      "\t\tBURGLARY:\t1600\n",
      "\t\tLARCENY FROM AUTO:\t1356\n",
      "\t\tAUTO THEFT:\t998\n",
      "\tMax length: 20\n",
      "  6. O\n",
      "\t<class 'str'>\n",
      "\tNulls: True\n",
      "\tValues: O, Inside, I, Outside\n",
      "  7. HANDS\n",
      "\t<class 'str'>\n",
      "\tNulls: True\n",
      "\tValues: FIREARM, HANDS, KNIFE, OTHER\n",
      "  8. 641\n",
      "\t<class 'int'>\n",
      "\tNulls: True\n",
      "\tMin: 111\n",
      "\tMax: 944\n",
      "\tSum: 5070826\n",
      "\tMean: 507.69183019623546\n",
      "\tMedian: 511.0\n",
      "\tStandard Deviation: 260.1532390624625\n",
      "\tUnique values: 143\n",
      "\t5 most frequent values:\n",
      "\t\t111:\t339\n",
      "\t\t212:\t170\n",
      "\t\t922:\t169\n",
      "\t\t211:\t161\n",
      "\t\t232:\t156\n",
      "  9. NORTHWESTERN\n",
      "\t<class 'str'>\n",
      "\tNulls: True\n",
      "\tUnique values: 10\n",
      "\t5 most frequent values:\n",
      "\t\tNORTHEASTERN:\t1620\n",
      "\t\tSOUTHEASTERN:\t1354\n",
      "\t\tCENTRAL:\t1158\n",
      "\t\tSOUTHERN:\t1146\n",
      "\t\tNORTHERN:\t1136\n",
      "\tMax length: 12\n",
      " 10. Hanlon-Longwood\n",
      "\t<class 'str'>\n",
      "\tNulls: True\n",
      "\tUnique values: 273\n",
      "\t5 most frequent values:\n",
      "\t\tDowntown:\t336\n",
      "\t\tFrankford:\t255\n",
      "\t\tBelair-Edison:\t216\n",
      "\t\tCherry Hill:\t159\n",
      "\t\tCanton:\t157\n",
      "\tMax length: 33\n",
      " 11. (39.3194000000, -76.6732400000)\n",
      "\t<class 'str'>\n",
      "\tNulls: True\n",
      "\tUnique values: 8198\n",
      "\t5 most frequent values:\n",
      "\t\t(39.2876100000, -76.5398200000):\t22\n",
      "\t\t(39.3180000000, -76.6582100000):\t20\n",
      "\t\t(39.3186800000, -76.6539900000):\t20\n",
      "\t\t(39.3100300000, -76.6759700000):\t17\n",
      "\t\t(39.2865900000, -76.6120400000):\t16\n",
      "\tMax length: 31\n",
      " 12. 1\n",
      "\t<class 'int'>\n",
      "\tNulls: False\n",
      "\tValues: 1\n",
      "\n",
      "Row count: 9999\n"
     ]
    }
   ],
   "source": [
    "!shuf -n 10000 rows.csv | csvstat"
   ]
  },
  {
   "cell_type": "code",
   "execution_count": 3,
   "metadata": {
    "collapsed": false
   },
   "outputs": [
    {
     "name": "stdout",
     "output_type": "stream",
     "text": [
      "  1: CrimeDate\r\n",
      "  2: CrimeTime\r\n",
      "  3: CrimeCode\r\n",
      "  4: Location\r\n",
      "  5: Description\r\n",
      "  6: Inside/Outside\r\n",
      "  7: Weapon\r\n",
      "  8: Post\r\n",
      "  9: District\r\n",
      " 10: Neighborhood\r\n",
      " 11: Location 1\r\n",
      " 12: Total Incidents\r\n"
     ]
    }
   ],
   "source": [
    "!csvcut -n rows.csv"
   ]
  },
  {
   "cell_type": "markdown",
   "metadata": {},
   "source": [
    "## Problem 2 - define a database model, load the data, and explore (20 points)\n",
    "\n",
    "Based on what you found above, create and connect to a new database, define a database table in it, and load this dataset into it.  You may use either of the methods for this step you have seen in earlier class notebooks.  You may choose to eliminate variables/columns if they are not relevant or interesting to you - explain your reasoning if you do.  Either way, you should load a majority of the columns present in the source dataset as it is in its raw form into the database, and all of its rows.\n",
    "\n",
    "Once your data has loaded successfully, run a `COUNT(*)` query to verify that all the data has loaded correctly.\n",
    "\n",
    "Explore the data to zero in on a few themes you would like to further study analytically.  Discuss columns that present opportunities for extraction into dimensions, and identify the specific columns that contain facts you want to measure."
   ]
  },
  {
   "cell_type": "code",
   "execution_count": 4,
   "metadata": {
    "collapsed": false
   },
   "outputs": [
    {
     "name": "stderr",
     "output_type": "stream",
     "text": [
      "/opt/conda/lib/python3.5/site-packages/IPython/config.py:13: ShimWarning: The `IPython.config` package has been deprecated. You should import from traitlets.config instead.\n",
      "  \"You should import from traitlets.config instead.\", ShimWarning)\n",
      "/opt/conda/lib/python3.5/site-packages/IPython/utils/traitlets.py:5: UserWarning: IPython.utils.traitlets has moved to a top-level traitlets package.\n",
      "  warn(\"IPython.utils.traitlets has moved to a top-level traitlets package.\")\n"
     ]
    },
    {
     "name": "stdout",
     "output_type": "stream",
     "text": [
      "[sudo] password for jovyan: Restarting PostgreSQL 9.5 database server: main.\n",
      "createdb: database creation failed: ERROR:  database \"BaltimoreCrime\" already exists\n"
     ]
    },
    {
     "data": {
      "text/plain": [
       "'Connected: dbuser@BaltimoreCrime'"
      ]
     },
     "execution_count": 4,
     "metadata": {},
     "output_type": "execute_result"
    }
   ],
   "source": [
    "%load_ext sql\n",
    "!echo 'redspot' | sudo -S service postgresql restart\n",
    "!createdb -U dbuser BaltimoreCrime\n",
    "%sql postgresql://dbuser@localhost:5432/BaltimoreCrime"
   ]
  },
  {
   "cell_type": "code",
   "execution_count": 5,
   "metadata": {
    "collapsed": false
   },
   "outputs": [
    {
     "name": "stdout",
     "output_type": "stream",
     "text": [
      "Done.\n",
      "Done.\n"
     ]
    },
    {
     "data": {
      "text/plain": [
       "[]"
      ]
     },
     "execution_count": 5,
     "metadata": {},
     "output_type": "execute_result"
    }
   ],
   "source": [
    "%%sql\n",
    "DROP TABLE IF EXISTS BaltimoreCrime;\n",
    "CREATE TABLE BaltimoreCrime (\n",
    "    CrimeDate TIMESTAMP,\n",
    "    CrimeTime VARCHAR(64),\n",
    "    CrimeCode VARCHAR(64),\n",
    "    Location VARCHAR(64),\n",
    "    Description VARCHAR(64),\n",
    "    Inside_Outside VARCHAR(64),\n",
    "    Weapon VARCHAR(64),\n",
    "    Post INTEGER,\n",
    "    District VARCHAR(64),\n",
    "    Neighborhood VARCHAR(64),\n",
    "    Location_1 VARCHAR(64),\n",
    "    Total_Incidents INTEGER\n",
    ")"
   ]
  },
  {
   "cell_type": "code",
   "execution_count": 6,
   "metadata": {
    "collapsed": false
   },
   "outputs": [
    {
     "name": "stdout",
     "output_type": "stream",
     "text": [
      "283614 rows affected.\n"
     ]
    },
    {
     "data": {
      "text/plain": [
       "[]"
      ]
     },
     "execution_count": 6,
     "metadata": {},
     "output_type": "execute_result"
    }
   ],
   "source": [
    "%%sql\n",
    "COPY BaltimoreCrime FROM '/home/jovyan/work/rows.csv'\n",
    "CSV\n",
    "HEADER\n",
    "QUOTE '\"'\n",
    "DELIMITER ',';"
   ]
  },
  {
   "cell_type": "markdown",
   "metadata": {},
   "source": [
    "We used COUNT() to verify that the data was all loaded into the table."
   ]
  },
  {
   "cell_type": "code",
   "execution_count": 7,
   "metadata": {
    "collapsed": false
   },
   "outputs": [
    {
     "name": "stdout",
     "output_type": "stream",
     "text": [
      "1 rows affected.\n"
     ]
    },
    {
     "data": {
      "text/html": [
       "<table>\n",
       "    <tr>\n",
       "        <th>count</th>\n",
       "    </tr>\n",
       "    <tr>\n",
       "        <td>283614</td>\n",
       "    </tr>\n",
       "</table>"
      ],
      "text/plain": [
       "[(283614,)]"
      ]
     },
     "execution_count": 7,
     "metadata": {},
     "output_type": "execute_result"
    }
   ],
   "source": [
    "%%sql\n",
    "SELECT COUNT(*) FROM BaltimoreCrime;"
   ]
  },
  {
   "cell_type": "markdown",
   "metadata": {},
   "source": [
    "We checked the first five rows to see that the data formats carried over properly."
   ]
  },
  {
   "cell_type": "code",
   "execution_count": 8,
   "metadata": {
    "collapsed": false
   },
   "outputs": [
    {
     "name": "stdout",
     "output_type": "stream",
     "text": [
      "5 rows affected.\n"
     ]
    },
    {
     "data": {
      "text/html": [
       "<table>\n",
       "    <tr>\n",
       "        <th>crimedate</th>\n",
       "        <th>crimetime</th>\n",
       "        <th>crimecode</th>\n",
       "        <th>location</th>\n",
       "        <th>description</th>\n",
       "        <th>inside_outside</th>\n",
       "        <th>weapon</th>\n",
       "        <th>post</th>\n",
       "        <th>district</th>\n",
       "        <th>neighborhood</th>\n",
       "        <th>location_1</th>\n",
       "        <th>total_incidents</th>\n",
       "    </tr>\n",
       "    <tr>\n",
       "        <td>2016-10-29 00:00:00</td>\n",
       "        <td>00:01:00</td>\n",
       "        <td>6E</td>\n",
       "        <td>4700 FURLEY AVE</td>\n",
       "        <td>LARCENY</td>\n",
       "        <td>O</td>\n",
       "        <td>None</td>\n",
       "        <td>443</td>\n",
       "        <td>NORTHEASTERN</td>\n",
       "        <td>Frankford</td>\n",
       "        <td>(39.3285900000, -76.5517800000)</td>\n",
       "        <td>1</td>\n",
       "    </tr>\n",
       "    <tr>\n",
       "        <td>2016-10-29 00:00:00</td>\n",
       "        <td>00:01:00</td>\n",
       "        <td>7A</td>\n",
       "        <td>3500 LIBERTY HEIGHTS AVE</td>\n",
       "        <td>AUTO THEFT</td>\n",
       "        <td>O</td>\n",
       "        <td>None</td>\n",
       "        <td>642</td>\n",
       "        <td>NORTHWESTERN</td>\n",
       "        <td>Forest Park</td>\n",
       "        <td>(39.3250400000, -76.6748500000)</td>\n",
       "        <td>1</td>\n",
       "    </tr>\n",
       "    <tr>\n",
       "        <td>2016-10-29 00:00:00</td>\n",
       "        <td>00:58:00</td>\n",
       "        <td>6C</td>\n",
       "        <td>0 LIGHT ST</td>\n",
       "        <td>LARCENY</td>\n",
       "        <td>I</td>\n",
       "        <td>None</td>\n",
       "        <td>111</td>\n",
       "        <td>CENTRAL</td>\n",
       "        <td>Downtown</td>\n",
       "        <td>(39.2884300000, -76.6137200000)</td>\n",
       "        <td>1</td>\n",
       "    </tr>\n",
       "    <tr>\n",
       "        <td>2016-10-29 00:00:00</td>\n",
       "        <td>01:00:00</td>\n",
       "        <td>6D</td>\n",
       "        <td>2200 BERLIN ST</td>\n",
       "        <td>LARCENY FROM AUTO</td>\n",
       "        <td>O</td>\n",
       "        <td>None</td>\n",
       "        <td>921</td>\n",
       "        <td>SOUTHERN</td>\n",
       "        <td>Saint Paul</td>\n",
       "        <td>(39.2695600000, -76.6447300000)</td>\n",
       "        <td>1</td>\n",
       "    </tr>\n",
       "    <tr>\n",
       "        <td>2016-10-29 00:00:00</td>\n",
       "        <td>01:00:00</td>\n",
       "        <td>7A</td>\n",
       "        <td>2800 E FEDERAL ST</td>\n",
       "        <td>AUTO THEFT</td>\n",
       "        <td>O</td>\n",
       "        <td>None</td>\n",
       "        <td>332</td>\n",
       "        <td>EASTERN</td>\n",
       "        <td>Berea</td>\n",
       "        <td>(39.3091700000, -76.5780900000)</td>\n",
       "        <td>1</td>\n",
       "    </tr>\n",
       "</table>"
      ],
      "text/plain": [
       "[(datetime.datetime(2016, 10, 29, 0, 0), '00:01:00', '6E', '4700 FURLEY AVE', 'LARCENY', 'O', None, 443, 'NORTHEASTERN', 'Frankford', '(39.3285900000, -76.5517800000)', 1),\n",
       " (datetime.datetime(2016, 10, 29, 0, 0), '00:01:00', '7A', '3500 LIBERTY HEIGHTS AVE', 'AUTO THEFT', 'O', None, 642, 'NORTHWESTERN', 'Forest Park', '(39.3250400000, -76.6748500000)', 1),\n",
       " (datetime.datetime(2016, 10, 29, 0, 0), '00:58:00', '6C', '0 LIGHT ST', 'LARCENY', 'I', None, 111, 'CENTRAL', 'Downtown', '(39.2884300000, -76.6137200000)', 1),\n",
       " (datetime.datetime(2016, 10, 29, 0, 0), '01:00:00', '6D', '2200 BERLIN ST', 'LARCENY FROM AUTO', 'O', None, 921, 'SOUTHERN', 'Saint Paul', '(39.2695600000, -76.6447300000)', 1),\n",
       " (datetime.datetime(2016, 10, 29, 0, 0), '01:00:00', '7A', '2800 E FEDERAL ST', 'AUTO THEFT', 'O', None, 332, 'EASTERN', 'Berea', '(39.3091700000, -76.5780900000)', 1)]"
      ]
     },
     "execution_count": 8,
     "metadata": {},
     "output_type": "execute_result"
    }
   ],
   "source": [
    "%%sql\n",
    "SELECT *\n",
    "FROM BaltimoreCrime\n",
    "LIMIT 5;"
   ]
  },
  {
   "cell_type": "markdown",
   "metadata": {},
   "source": [
    "To make the data easier to explore, we separated the data column into year, month, and day. We also added a unique id called incident_id."
   ]
  },
  {
   "cell_type": "code",
   "execution_count": 9,
   "metadata": {
    "collapsed": false
   },
   "outputs": [
    {
     "name": "stdout",
     "output_type": "stream",
     "text": [
      "Done.\n"
     ]
    },
    {
     "data": {
      "text/plain": [
       "[]"
      ]
     },
     "execution_count": 9,
     "metadata": {},
     "output_type": "execute_result"
    }
   ],
   "source": [
    "%%sql\n",
    "ALTER TABLE BaltimoreCrime\n",
    "ADD COLUMN incident_id SERIAL;"
   ]
  },
  {
   "cell_type": "code",
   "execution_count": 10,
   "metadata": {
    "collapsed": false
   },
   "outputs": [
    {
     "name": "stdout",
     "output_type": "stream",
     "text": [
      "Done.\n"
     ]
    },
    {
     "data": {
      "text/plain": [
       "[]"
      ]
     },
     "execution_count": 10,
     "metadata": {},
     "output_type": "execute_result"
    }
   ],
   "source": [
    "%%sql\n",
    "ALTER TABLE BaltimoreCrime\n",
    "ADD COLUMN year NUMERIC;"
   ]
  },
  {
   "cell_type": "code",
   "execution_count": 11,
   "metadata": {
    "collapsed": false
   },
   "outputs": [
    {
     "name": "stdout",
     "output_type": "stream",
     "text": [
      "Done.\n"
     ]
    },
    {
     "data": {
      "text/plain": [
       "[]"
      ]
     },
     "execution_count": 11,
     "metadata": {},
     "output_type": "execute_result"
    }
   ],
   "source": [
    "%%sql\n",
    "ALTER TABLE BaltimoreCrime\n",
    "ADD COLUMN month NUMERIC;"
   ]
  },
  {
   "cell_type": "code",
   "execution_count": 12,
   "metadata": {
    "collapsed": false
   },
   "outputs": [
    {
     "name": "stdout",
     "output_type": "stream",
     "text": [
      "Done.\n"
     ]
    },
    {
     "data": {
      "text/plain": [
       "[]"
      ]
     },
     "execution_count": 12,
     "metadata": {},
     "output_type": "execute_result"
    }
   ],
   "source": [
    "%%sql\n",
    "ALTER TABLE BaltimoreCrime\n",
    "ADD COLUMN day NUMERIC;"
   ]
  },
  {
   "cell_type": "code",
   "execution_count": 13,
   "metadata": {
    "collapsed": false
   },
   "outputs": [
    {
     "name": "stdout",
     "output_type": "stream",
     "text": [
      "283614 rows affected.\n"
     ]
    },
    {
     "data": {
      "text/plain": [
       "[]"
      ]
     },
     "execution_count": 13,
     "metadata": {},
     "output_type": "execute_result"
    }
   ],
   "source": [
    "%%sql\n",
    "UPDATE BaltimoreCrime\n",
    "SET year = EXTRACT(YEAR FROM crimedate), \n",
    "    month = EXTRACT(MONTH FROM crimedate),\n",
    "    day = EXTRACT(DAY FROM crimedate);"
   ]
  },
  {
   "cell_type": "markdown",
   "metadata": {},
   "source": [
    "The following cell lets us test that the year, month, and day columns were created and filled correctly."
   ]
  },
  {
   "cell_type": "code",
   "execution_count": 14,
   "metadata": {
    "collapsed": false
   },
   "outputs": [
    {
     "name": "stdout",
     "output_type": "stream",
     "text": [
      "5 rows affected.\n"
     ]
    },
    {
     "data": {
      "text/html": [
       "<table>\n",
       "    <tr>\n",
       "        <th>crimedate</th>\n",
       "        <th>crimetime</th>\n",
       "        <th>crimecode</th>\n",
       "        <th>location</th>\n",
       "        <th>description</th>\n",
       "        <th>inside_outside</th>\n",
       "        <th>weapon</th>\n",
       "        <th>post</th>\n",
       "        <th>district</th>\n",
       "        <th>neighborhood</th>\n",
       "        <th>location_1</th>\n",
       "        <th>total_incidents</th>\n",
       "        <th>incident_id</th>\n",
       "        <th>year</th>\n",
       "        <th>month</th>\n",
       "        <th>day</th>\n",
       "    </tr>\n",
       "    <tr>\n",
       "        <td>2016-10-29 00:00:00</td>\n",
       "        <td>15:00:00</td>\n",
       "        <td>7A</td>\n",
       "        <td>None</td>\n",
       "        <td>AUTO THEFT</td>\n",
       "        <td>O</td>\n",
       "        <td>None</td>\n",
       "        <td>532</td>\n",
       "        <td>NORTHERN</td>\n",
       "        <td>None</td>\n",
       "        <td>None</td>\n",
       "        <td>1</td>\n",
       "        <td>39</td>\n",
       "        <td>2016</td>\n",
       "        <td>10</td>\n",
       "        <td>29</td>\n",
       "    </tr>\n",
       "    <tr>\n",
       "        <td>2016-10-22 00:00:00</td>\n",
       "        <td>18:30:00</td>\n",
       "        <td>4E</td>\n",
       "        <td>None</td>\n",
       "        <td>COMMON ASSAULT</td>\n",
       "        <td>O</td>\n",
       "        <td>HANDS</td>\n",
       "        <td>143</td>\n",
       "        <td>CENTRAL</td>\n",
       "        <td>None</td>\n",
       "        <td>None</td>\n",
       "        <td>1</td>\n",
       "        <td>954</td>\n",
       "        <td>2016</td>\n",
       "        <td>10</td>\n",
       "        <td>22</td>\n",
       "    </tr>\n",
       "    <tr>\n",
       "        <td>2016-10-17 00:00:00</td>\n",
       "        <td>17:56:00</td>\n",
       "        <td>6D</td>\n",
       "        <td>None</td>\n",
       "        <td>LARCENY FROM AUTO</td>\n",
       "        <td>I</td>\n",
       "        <td>None</td>\n",
       "        <td>514</td>\n",
       "        <td>NORTHERN</td>\n",
       "        <td>None</td>\n",
       "        <td>None</td>\n",
       "        <td>1</td>\n",
       "        <td>1719</td>\n",
       "        <td>2016</td>\n",
       "        <td>10</td>\n",
       "        <td>17</td>\n",
       "    </tr>\n",
       "    <tr>\n",
       "        <td>2015-05-25 00:00:00</td>\n",
       "        <td>15:00:00</td>\n",
       "        <td>4D</td>\n",
       "        <td>None</td>\n",
       "        <td>AGG. ASSAULT</td>\n",
       "        <td>I</td>\n",
       "        <td>HANDS</td>\n",
       "        <td>924</td>\n",
       "        <td>SOUTHERN</td>\n",
       "        <td>None</td>\n",
       "        <td>None</td>\n",
       "        <td>1</td>\n",
       "        <td>2038</td>\n",
       "        <td>2015</td>\n",
       "        <td>5</td>\n",
       "        <td>25</td>\n",
       "    </tr>\n",
       "    <tr>\n",
       "        <td>2016-10-02 00:00:00</td>\n",
       "        <td>11:20:00</td>\n",
       "        <td>6J</td>\n",
       "        <td>None</td>\n",
       "        <td>LARCENY</td>\n",
       "        <td>I</td>\n",
       "        <td>None</td>\n",
       "        <td>243</td>\n",
       "        <td>SOUTHEASTERN</td>\n",
       "        <td>None</td>\n",
       "        <td>None</td>\n",
       "        <td>1</td>\n",
       "        <td>3834</td>\n",
       "        <td>2016</td>\n",
       "        <td>10</td>\n",
       "        <td>2</td>\n",
       "    </tr>\n",
       "</table>"
      ],
      "text/plain": [
       "[(datetime.datetime(2016, 10, 29, 0, 0), '15:00:00', '7A', None, 'AUTO THEFT', 'O', None, 532, 'NORTHERN', None, None, 1, 39, Decimal('2016'), Decimal('10'), Decimal('29')),\n",
       " (datetime.datetime(2016, 10, 22, 0, 0), '18:30:00', '4E', None, 'COMMON ASSAULT', 'O', 'HANDS', 143, 'CENTRAL', None, None, 1, 954, Decimal('2016'), Decimal('10'), Decimal('22')),\n",
       " (datetime.datetime(2016, 10, 17, 0, 0), '17:56:00', '6D', None, 'LARCENY FROM AUTO', 'I', None, 514, 'NORTHERN', None, None, 1, 1719, Decimal('2016'), Decimal('10'), Decimal('17')),\n",
       " (datetime.datetime(2015, 5, 25, 0, 0), '15:00:00', '4D', None, 'AGG. ASSAULT', 'I', 'HANDS', 924, 'SOUTHERN', None, None, 1, 2038, Decimal('2015'), Decimal('5'), Decimal('25')),\n",
       " (datetime.datetime(2016, 10, 2, 0, 0), '11:20:00', '6J', None, 'LARCENY', 'I', None, 243, 'SOUTHEASTERN', None, None, 1, 3834, Decimal('2016'), Decimal('10'), Decimal('2'))]"
      ]
     },
     "execution_count": 14,
     "metadata": {},
     "output_type": "execute_result"
    }
   ],
   "source": [
    "%%sql\n",
    "SELECT *\n",
    "FROM BaltimoreCrime\n",
    "LIMIT 5;"
   ]
  },
  {
   "cell_type": "markdown",
   "metadata": {},
   "source": [
    "## Problem 3 - define a star schema, and load your data into it (30 points)\n",
    "\n",
    "Define a star schema consisting of at least one fact table and at least two dimensions.  Transform your source data into the new fact table and dimensions.  Discuss your key modeling decisions.\n",
    "\n",
    "Document your star schema with a diagram.  There several tools available for this, such as Google Docs and Microsoft Visio."
   ]
  },
  {
   "cell_type": "markdown",
   "metadata": {},
   "source": [
    "For purposes of this exercise, we will limit data in the star schema to year 2016 so as to minimize data processing time. Due to null values in specific fields, coalesce function is used which will allow for join needed to create the dimension keys to execute properly in subsequent step."
   ]
  },
  {
   "cell_type": "code",
   "execution_count": 54,
   "metadata": {
    "collapsed": false
   },
   "outputs": [
    {
     "name": "stdout",
     "output_type": "stream",
     "text": [
      "Done.\n",
      "39100 rows affected.\n"
     ]
    },
    {
     "data": {
      "text/plain": [
       "[]"
      ]
     },
     "execution_count": 54,
     "metadata": {},
     "output_type": "execute_result"
    }
   ],
   "source": [
    "%%sql\n",
    "DROP TABLE IF EXISTS BaltimoreCrime2016;\n",
    "CREATE TABLE BaltimoreCrime2016 as (\n",
    "SELECT \n",
    "    crimedate\n",
    "    , crimetime\n",
    "    , coalesce(crimecode, 'n/a') as crimecode\n",
    "    , coalesce(location, 'n/a') as location\n",
    "    , coalesce(description, 'n/a') as description\n",
    "    , coalesce(inside_outside, 'n/a') as inside_outside\n",
    "    , coalesce(weapon, 'n/a') as weapon\n",
    "    , coalesce(post, 0) as post\n",
    "    , coalesce(district, 'n/a') as district\n",
    "    , coalesce(neighborhood, 'n/a') as neighborhood\n",
    "    , coalesce(location_1, 'n/a') as location_1\n",
    "    , total_incidents\n",
    "    , incident_id\n",
    "    , year\n",
    "    , month\n",
    "    , day\n",
    "FROM BaltimoreCrime\n",
    "WHERE year = '2016'\n",
    ");"
   ]
  },
  {
   "cell_type": "markdown",
   "metadata": {},
   "source": [
    "**Step 1: Create date_time dimension table** <br> This table will contain fields: crimedate, crimetime, year, month, and day."
   ]
  },
  {
   "cell_type": "code",
   "execution_count": 55,
   "metadata": {
    "collapsed": false
   },
   "outputs": [
    {
     "name": "stdout",
     "output_type": "stream",
     "text": [
      "Done.\n",
      "26110 rows affected.\n"
     ]
    },
    {
     "data": {
      "text/plain": [
       "[]"
      ]
     },
     "execution_count": 55,
     "metadata": {},
     "output_type": "execute_result"
    }
   ],
   "source": [
    "%%sql\n",
    "DROP TABLE IF EXISTS dim_date_time;\n",
    "CREATE TABLE dim_date_time as (\n",
    "SELECT distinct \n",
    "    crimedate\n",
    "    , crimetime\n",
    "    , year\n",
    "    , month\n",
    "    , day\n",
    "FROM BaltimoreCrime2016\n",
    "ORDER BY 1, 2\n",
    ");"
   ]
  },
  {
   "cell_type": "code",
   "execution_count": 56,
   "metadata": {
    "collapsed": false
   },
   "outputs": [
    {
     "name": "stdout",
     "output_type": "stream",
     "text": [
      "Done.\n"
     ]
    },
    {
     "data": {
      "text/plain": [
       "[]"
      ]
     },
     "execution_count": 56,
     "metadata": {},
     "output_type": "execute_result"
    }
   ],
   "source": [
    "%%sql\n",
    "ALTER TABLE dim_date_time\n",
    "ADD COLUMN date_time_key SERIAL;"
   ]
  },
  {
   "cell_type": "markdown",
   "metadata": {},
   "source": [
    "Review sample of records to confirm dimension table was created correctly."
   ]
  },
  {
   "cell_type": "code",
   "execution_count": 57,
   "metadata": {
    "collapsed": false
   },
   "outputs": [
    {
     "name": "stdout",
     "output_type": "stream",
     "text": [
      "10 rows affected.\n"
     ]
    },
    {
     "data": {
      "text/html": [
       "<table>\n",
       "    <tr>\n",
       "        <th>crimedate</th>\n",
       "        <th>crimetime</th>\n",
       "        <th>year</th>\n",
       "        <th>month</th>\n",
       "        <th>day</th>\n",
       "        <th>date_time_key</th>\n",
       "    </tr>\n",
       "    <tr>\n",
       "        <td>2016-01-01 00:00:00</td>\n",
       "        <td>00:42:00</td>\n",
       "        <td>2016</td>\n",
       "        <td>1</td>\n",
       "        <td>1</td>\n",
       "        <td>1</td>\n",
       "    </tr>\n",
       "    <tr>\n",
       "        <td>2016-01-01 00:00:00</td>\n",
       "        <td>00:50:00</td>\n",
       "        <td>2016</td>\n",
       "        <td>1</td>\n",
       "        <td>1</td>\n",
       "        <td>2</td>\n",
       "    </tr>\n",
       "    <tr>\n",
       "        <td>2016-01-01 00:00:00</td>\n",
       "        <td>01:00:00</td>\n",
       "        <td>2016</td>\n",
       "        <td>1</td>\n",
       "        <td>1</td>\n",
       "        <td>3</td>\n",
       "    </tr>\n",
       "    <tr>\n",
       "        <td>2016-01-01 00:00:00</td>\n",
       "        <td>01:01:00</td>\n",
       "        <td>2016</td>\n",
       "        <td>1</td>\n",
       "        <td>1</td>\n",
       "        <td>4</td>\n",
       "    </tr>\n",
       "    <tr>\n",
       "        <td>2016-01-01 00:00:00</td>\n",
       "        <td>01:13:00</td>\n",
       "        <td>2016</td>\n",
       "        <td>1</td>\n",
       "        <td>1</td>\n",
       "        <td>5</td>\n",
       "    </tr>\n",
       "    <tr>\n",
       "        <td>2016-01-01 00:00:00</td>\n",
       "        <td>01:30:00</td>\n",
       "        <td>2016</td>\n",
       "        <td>1</td>\n",
       "        <td>1</td>\n",
       "        <td>6</td>\n",
       "    </tr>\n",
       "    <tr>\n",
       "        <td>2016-01-01 00:00:00</td>\n",
       "        <td>01:55:00</td>\n",
       "        <td>2016</td>\n",
       "        <td>1</td>\n",
       "        <td>1</td>\n",
       "        <td>7</td>\n",
       "    </tr>\n",
       "    <tr>\n",
       "        <td>2016-01-01 00:00:00</td>\n",
       "        <td>02:00:00</td>\n",
       "        <td>2016</td>\n",
       "        <td>1</td>\n",
       "        <td>1</td>\n",
       "        <td>8</td>\n",
       "    </tr>\n",
       "    <tr>\n",
       "        <td>2016-01-01 00:00:00</td>\n",
       "        <td>02:13:00</td>\n",
       "        <td>2016</td>\n",
       "        <td>1</td>\n",
       "        <td>1</td>\n",
       "        <td>9</td>\n",
       "    </tr>\n",
       "    <tr>\n",
       "        <td>2016-01-01 00:00:00</td>\n",
       "        <td>02:24:00</td>\n",
       "        <td>2016</td>\n",
       "        <td>1</td>\n",
       "        <td>1</td>\n",
       "        <td>10</td>\n",
       "    </tr>\n",
       "</table>"
      ],
      "text/plain": [
       "[(datetime.datetime(2016, 1, 1, 0, 0), '00:42:00', Decimal('2016'), Decimal('1'), Decimal('1'), 1),\n",
       " (datetime.datetime(2016, 1, 1, 0, 0), '00:50:00', Decimal('2016'), Decimal('1'), Decimal('1'), 2),\n",
       " (datetime.datetime(2016, 1, 1, 0, 0), '01:00:00', Decimal('2016'), Decimal('1'), Decimal('1'), 3),\n",
       " (datetime.datetime(2016, 1, 1, 0, 0), '01:01:00', Decimal('2016'), Decimal('1'), Decimal('1'), 4),\n",
       " (datetime.datetime(2016, 1, 1, 0, 0), '01:13:00', Decimal('2016'), Decimal('1'), Decimal('1'), 5),\n",
       " (datetime.datetime(2016, 1, 1, 0, 0), '01:30:00', Decimal('2016'), Decimal('1'), Decimal('1'), 6),\n",
       " (datetime.datetime(2016, 1, 1, 0, 0), '01:55:00', Decimal('2016'), Decimal('1'), Decimal('1'), 7),\n",
       " (datetime.datetime(2016, 1, 1, 0, 0), '02:00:00', Decimal('2016'), Decimal('1'), Decimal('1'), 8),\n",
       " (datetime.datetime(2016, 1, 1, 0, 0), '02:13:00', Decimal('2016'), Decimal('1'), Decimal('1'), 9),\n",
       " (datetime.datetime(2016, 1, 1, 0, 0), '02:24:00', Decimal('2016'), Decimal('1'), Decimal('1'), 10)]"
      ]
     },
     "execution_count": 57,
     "metadata": {},
     "output_type": "execute_result"
    }
   ],
   "source": [
    "%%sql\n",
    "SELECT *\n",
    "FROM dim_date_time\n",
    "ORDER BY 1, 2\n",
    "LIMIT 10;"
   ]
  },
  {
   "cell_type": "markdown",
   "metadata": {},
   "source": [
    "**Step 2: Create crime_details dimension table** <br> This table will contain fields: crimecode, description, inside_outside, and weapon. "
   ]
  },
  {
   "cell_type": "code",
   "execution_count": 58,
   "metadata": {
    "collapsed": false
   },
   "outputs": [
    {
     "name": "stdout",
     "output_type": "stream",
     "text": [
      "Done.\n",
      "165 rows affected.\n"
     ]
    },
    {
     "data": {
      "text/plain": [
       "[]"
      ]
     },
     "execution_count": 58,
     "metadata": {},
     "output_type": "execute_result"
    }
   ],
   "source": [
    "%%sql\n",
    "DROP TABLE IF EXISTS dim_crime_details;\n",
    "CREATE TABLE dim_crime_details as (\n",
    "SELECT distinct\n",
    "    crimecode\n",
    "    , description\n",
    "    , inside_outside\n",
    "    , weapon\n",
    "FROM BaltimoreCrime2016\n",
    "ORDER BY 1, 2, 3, 4\n",
    ");"
   ]
  },
  {
   "cell_type": "code",
   "execution_count": 59,
   "metadata": {
    "collapsed": false
   },
   "outputs": [
    {
     "name": "stdout",
     "output_type": "stream",
     "text": [
      "Done.\n"
     ]
    },
    {
     "data": {
      "text/plain": [
       "[]"
      ]
     },
     "execution_count": 59,
     "metadata": {},
     "output_type": "execute_result"
    }
   ],
   "source": [
    "%%sql\n",
    "ALTER TABLE dim_crime_details\n",
    "ADD COLUMN crime_details_key SERIAL;"
   ]
  },
  {
   "cell_type": "markdown",
   "metadata": {},
   "source": [
    "Review sample of records to confirm dimension table was created correctly."
   ]
  },
  {
   "cell_type": "code",
   "execution_count": 60,
   "metadata": {
    "collapsed": false
   },
   "outputs": [
    {
     "name": "stdout",
     "output_type": "stream",
     "text": [
      "10 rows affected.\n"
     ]
    },
    {
     "data": {
      "text/html": [
       "<table>\n",
       "    <tr>\n",
       "        <th>crimecode</th>\n",
       "        <th>description</th>\n",
       "        <th>inside_outside</th>\n",
       "        <th>weapon</th>\n",
       "        <th>crime_details_key</th>\n",
       "    </tr>\n",
       "    <tr>\n",
       "        <td>1F</td>\n",
       "        <td>HOMICIDE</td>\n",
       "        <td>Inside</td>\n",
       "        <td>FIREARM</td>\n",
       "        <td>1</td>\n",
       "    </tr>\n",
       "    <tr>\n",
       "        <td>1F</td>\n",
       "        <td>HOMICIDE</td>\n",
       "        <td>Outside</td>\n",
       "        <td>FIREARM</td>\n",
       "        <td>2</td>\n",
       "    </tr>\n",
       "    <tr>\n",
       "        <td>1K</td>\n",
       "        <td>HOMICIDE</td>\n",
       "        <td>Inside</td>\n",
       "        <td>KNIFE</td>\n",
       "        <td>3</td>\n",
       "    </tr>\n",
       "    <tr>\n",
       "        <td>1K</td>\n",
       "        <td>HOMICIDE</td>\n",
       "        <td>Outside</td>\n",
       "        <td>KNIFE</td>\n",
       "        <td>4</td>\n",
       "    </tr>\n",
       "    <tr>\n",
       "        <td>1O</td>\n",
       "        <td>HOMICIDE</td>\n",
       "        <td>Inside</td>\n",
       "        <td>OTHER</td>\n",
       "        <td>5</td>\n",
       "    </tr>\n",
       "    <tr>\n",
       "        <td>1O</td>\n",
       "        <td>HOMICIDE</td>\n",
       "        <td>Outside</td>\n",
       "        <td>OTHER</td>\n",
       "        <td>6</td>\n",
       "    </tr>\n",
       "    <tr>\n",
       "        <td>2A</td>\n",
       "        <td>RAPE</td>\n",
       "        <td>I</td>\n",
       "        <td>OTHER</td>\n",
       "        <td>7</td>\n",
       "    </tr>\n",
       "    <tr>\n",
       "        <td>2A</td>\n",
       "        <td>RAPE</td>\n",
       "        <td>O</td>\n",
       "        <td>OTHER</td>\n",
       "        <td>8</td>\n",
       "    </tr>\n",
       "    <tr>\n",
       "        <td>2A</td>\n",
       "        <td>RAPE</td>\n",
       "        <td>n/a</td>\n",
       "        <td>OTHER</td>\n",
       "        <td>9</td>\n",
       "    </tr>\n",
       "    <tr>\n",
       "        <td>2B</td>\n",
       "        <td>RAPE</td>\n",
       "        <td>I</td>\n",
       "        <td>n/a</td>\n",
       "        <td>10</td>\n",
       "    </tr>\n",
       "</table>"
      ],
      "text/plain": [
       "[('1F', 'HOMICIDE', 'Inside', 'FIREARM', 1),\n",
       " ('1F', 'HOMICIDE', 'Outside', 'FIREARM', 2),\n",
       " ('1K', 'HOMICIDE', 'Inside', 'KNIFE', 3),\n",
       " ('1K', 'HOMICIDE', 'Outside', 'KNIFE', 4),\n",
       " ('1O', 'HOMICIDE', 'Inside', 'OTHER', 5),\n",
       " ('1O', 'HOMICIDE', 'Outside', 'OTHER', 6),\n",
       " ('2A', 'RAPE', 'I', 'OTHER', 7),\n",
       " ('2A', 'RAPE', 'O', 'OTHER', 8),\n",
       " ('2A', 'RAPE', 'n/a', 'OTHER', 9),\n",
       " ('2B', 'RAPE', 'I', 'n/a', 10)]"
      ]
     },
     "execution_count": 60,
     "metadata": {},
     "output_type": "execute_result"
    }
   ],
   "source": [
    "%%sql\n",
    "SELECT *\n",
    "FROM dim_crime_details\n",
    "ORDER BY 1, 2, 3, 4\n",
    "LIMIT 10;"
   ]
  },
  {
   "cell_type": "markdown",
   "metadata": {},
   "source": [
    "**Step 3: Create location_details dimension table** <br> This table will contain fields: location, post, district, neighborhood, and lat_long (coordinates)."
   ]
  },
  {
   "cell_type": "code",
   "execution_count": 61,
   "metadata": {
    "collapsed": false
   },
   "outputs": [
    {
     "name": "stdout",
     "output_type": "stream",
     "text": [
      "Done.\n",
      "24624 rows affected.\n"
     ]
    },
    {
     "data": {
      "text/plain": [
       "[]"
      ]
     },
     "execution_count": 61,
     "metadata": {},
     "output_type": "execute_result"
    }
   ],
   "source": [
    "%%sql\n",
    "DROP TABLE IF EXISTS dim_location_details;\n",
    "CREATE TABLE dim_location_details as (\n",
    "SELECT distinct\n",
    "    location\n",
    "    , post\n",
    "    , district\n",
    "    , neighborhood\n",
    "    , location_1 as lat_long\n",
    "    , substring(location_1, 2, 6) as lat\n",
    "    , substring(location_1, 17, 7) as long\n",
    "FROM BaltimoreCrime2016\n",
    "ORDER BY 1, 2, 3, 4, 5\n",
    ")\n",
    ";"
   ]
  },
  {
   "cell_type": "code",
   "execution_count": 62,
   "metadata": {
    "collapsed": false
   },
   "outputs": [
    {
     "name": "stdout",
     "output_type": "stream",
     "text": [
      "Done.\n"
     ]
    },
    {
     "data": {
      "text/plain": [
       "[]"
      ]
     },
     "execution_count": 62,
     "metadata": {},
     "output_type": "execute_result"
    }
   ],
   "source": [
    "%%sql\n",
    "ALTER TABLE dim_location_details\n",
    "ADD COLUMN location_details_key SERIAL;"
   ]
  },
  {
   "cell_type": "markdown",
   "metadata": {},
   "source": [
    "Review sample of records to confirm dimension table was created correctly."
   ]
  },
  {
   "cell_type": "code",
   "execution_count": 63,
   "metadata": {
    "collapsed": false,
    "scrolled": true
   },
   "outputs": [
    {
     "name": "stdout",
     "output_type": "stream",
     "text": [
      "10 rows affected.\n"
     ]
    },
    {
     "data": {
      "text/html": [
       "<table>\n",
       "    <tr>\n",
       "        <th>location</th>\n",
       "        <th>post</th>\n",
       "        <th>district</th>\n",
       "        <th>neighborhood</th>\n",
       "        <th>lat_long</th>\n",
       "        <th>lat</th>\n",
       "        <th>long</th>\n",
       "        <th>location_details_key</th>\n",
       "    </tr>\n",
       "    <tr>\n",
       "        <td>0 AISQUITH ST</td>\n",
       "        <td>211</td>\n",
       "        <td>SOUTHEASTERN</td>\n",
       "        <td>Jonestown</td>\n",
       "        <td>(39.2910600000, -76.6012700000)</td>\n",
       "        <td>39.291</td>\n",
       "        <td>-76.601</td>\n",
       "        <td>1</td>\n",
       "    </tr>\n",
       "    <tr>\n",
       "        <td>0 ALBEMARLE ST</td>\n",
       "        <td>211</td>\n",
       "        <td>SOUTHEASTERN</td>\n",
       "        <td>Jonestown</td>\n",
       "        <td>(39.2890900000, -76.6042200000)</td>\n",
       "        <td>39.289</td>\n",
       "        <td>-76.604</td>\n",
       "        <td>2</td>\n",
       "    </tr>\n",
       "    <tr>\n",
       "        <td>0 ANDREW PL</td>\n",
       "        <td>941</td>\n",
       "        <td>SOUTHERN</td>\n",
       "        <td>Otterbein</td>\n",
       "        <td>(39.2832200000, -76.6152000000)</td>\n",
       "        <td>39.283</td>\n",
       "        <td>-76.615</td>\n",
       "        <td>3</td>\n",
       "    </tr>\n",
       "    <tr>\n",
       "        <td>0 ART MUSEUM DR</td>\n",
       "        <td>511</td>\n",
       "        <td>NORTHERN</td>\n",
       "        <td>Johns Hopkins Homewood</td>\n",
       "        <td>(39.3250500000, -76.6194500000)</td>\n",
       "        <td>39.325</td>\n",
       "        <td>-76.619</td>\n",
       "        <td>4</td>\n",
       "    </tr>\n",
       "    <tr>\n",
       "        <td>0 ASHBURTON ST</td>\n",
       "        <td>721</td>\n",
       "        <td>WESTERN</td>\n",
       "        <td>Mosher</td>\n",
       "        <td>(39.2954300000, -76.6614300000)</td>\n",
       "        <td>39.295</td>\n",
       "        <td>-76.661</td>\n",
       "        <td>5</td>\n",
       "    </tr>\n",
       "    <tr>\n",
       "        <td>0 BELLEMORE RD</td>\n",
       "        <td>521</td>\n",
       "        <td>NORTHERN</td>\n",
       "        <td>The Orchards</td>\n",
       "        <td>(39.3677800000, -76.6271500000)</td>\n",
       "        <td>39.367</td>\n",
       "        <td>-76.627</td>\n",
       "        <td>6</td>\n",
       "    </tr>\n",
       "    <tr>\n",
       "        <td>0 BENKERT AVE</td>\n",
       "        <td>842</td>\n",
       "        <td>SOUTHWESTERN</td>\n",
       "        <td>Saint Josephs</td>\n",
       "        <td>(39.2852500000, -76.6744000000)</td>\n",
       "        <td>39.285</td>\n",
       "        <td>-76.674</td>\n",
       "        <td>7</td>\n",
       "    </tr>\n",
       "    <tr>\n",
       "        <td>0 BENKERT AVE</td>\n",
       "        <td>842</td>\n",
       "        <td>SOUTHWESTERN</td>\n",
       "        <td>Saint Josephs</td>\n",
       "        <td>(39.2853400000, -76.6743000000)</td>\n",
       "        <td>39.285</td>\n",
       "        <td>-76.674</td>\n",
       "        <td>8</td>\n",
       "    </tr>\n",
       "    <tr>\n",
       "        <td>0 BENKERT AVE</td>\n",
       "        <td>842</td>\n",
       "        <td>SOUTHWESTERN</td>\n",
       "        <td>Saint Josephs</td>\n",
       "        <td>(39.2857500000, -76.6738700000)</td>\n",
       "        <td>39.285</td>\n",
       "        <td>-76.673</td>\n",
       "        <td>9</td>\n",
       "    </tr>\n",
       "    <tr>\n",
       "        <td>0 BENKERT AVE</td>\n",
       "        <td>842</td>\n",
       "        <td>SOUTHWESTERN</td>\n",
       "        <td>Saint Josephs</td>\n",
       "        <td>(39.2859300000, -76.6736300000)</td>\n",
       "        <td>39.285</td>\n",
       "        <td>-76.673</td>\n",
       "        <td>10</td>\n",
       "    </tr>\n",
       "</table>"
      ],
      "text/plain": [
       "[('0 AISQUITH ST', 211, 'SOUTHEASTERN', 'Jonestown', '(39.2910600000, -76.6012700000)', '39.291', '-76.601', 1),\n",
       " ('0 ALBEMARLE ST', 211, 'SOUTHEASTERN', 'Jonestown', '(39.2890900000, -76.6042200000)', '39.289', '-76.604', 2),\n",
       " ('0 ANDREW PL', 941, 'SOUTHERN', 'Otterbein', '(39.2832200000, -76.6152000000)', '39.283', '-76.615', 3),\n",
       " ('0 ART MUSEUM DR', 511, 'NORTHERN', 'Johns Hopkins Homewood', '(39.3250500000, -76.6194500000)', '39.325', '-76.619', 4),\n",
       " ('0 ASHBURTON ST', 721, 'WESTERN', 'Mosher', '(39.2954300000, -76.6614300000)', '39.295', '-76.661', 5),\n",
       " ('0 BELLEMORE RD', 521, 'NORTHERN', 'The Orchards', '(39.3677800000, -76.6271500000)', '39.367', '-76.627', 6),\n",
       " ('0 BENKERT AVE', 842, 'SOUTHWESTERN', 'Saint Josephs', '(39.2852500000, -76.6744000000)', '39.285', '-76.674', 7),\n",
       " ('0 BENKERT AVE', 842, 'SOUTHWESTERN', 'Saint Josephs', '(39.2853400000, -76.6743000000)', '39.285', '-76.674', 8),\n",
       " ('0 BENKERT AVE', 842, 'SOUTHWESTERN', 'Saint Josephs', '(39.2857500000, -76.6738700000)', '39.285', '-76.673', 9),\n",
       " ('0 BENKERT AVE', 842, 'SOUTHWESTERN', 'Saint Josephs', '(39.2859300000, -76.6736300000)', '39.285', '-76.673', 10)]"
      ]
     },
     "execution_count": 63,
     "metadata": {},
     "output_type": "execute_result"
    }
   ],
   "source": [
    "%%sql\n",
    "SELECT *\n",
    "FROM dim_location_details\n",
    "LIMIT 10;"
   ]
  },
  {
   "cell_type": "markdown",
   "metadata": {},
   "source": [
    "**Step 4: Create incident fact table** <br> This table will contain fields: incident_id (primary key), date_time_key, crime_details_key, location_details_key."
   ]
  },
  {
   "cell_type": "markdown",
   "metadata": {},
   "source": [
    "Add dimension key fields to new fact table."
   ]
  },
  {
   "cell_type": "code",
   "execution_count": 75,
   "metadata": {
    "collapsed": false
   },
   "outputs": [
    {
     "name": "stdout",
     "output_type": "stream",
     "text": [
      "Done.\n",
      "39100 rows affected.\n"
     ]
    },
    {
     "data": {
      "text/plain": [
       "[]"
      ]
     },
     "execution_count": 75,
     "metadata": {},
     "output_type": "execute_result"
    }
   ],
   "source": [
    "%%sql\n",
    "DROP TABLE IF EXISTS fact_incidents_2016;\n",
    "CREATE TABLE fact_incidents_2016 as (\n",
    "SELECT a.*\n",
    "    , b.date_time_key as date_time_key\n",
    "    , c.crime_details_key as crime_details_key\n",
    "    , d.location_details_key as location_details_key\n",
    "FROM BaltimoreCrime2016 a\n",
    "LEFT JOIN dim_date_time b ON\n",
    "    a.crimedate = b.crimedate\n",
    "    AND a.crimetime = b.crimetime\n",
    "    AND a.year = b.year\n",
    "    AND a.month = b.month\n",
    "    AND a.day = b.day\n",
    "LEFT JOIN dim_crime_details c ON\n",
    "    a.crimecode = c.crimecode\n",
    "    AND a.description = c.description\n",
    "    AND a.inside_outside = c.inside_outside\n",
    "    AND a.weapon = c.weapon\n",
    "LEFT JOIN dim_location_details d ON\n",
    "    a.location = d.location\n",
    "    AND a.post = d.post\n",
    "    AND a.district = d.district\n",
    "    AND a.neighborhood = d.neighborhood\n",
    "    AND a.location_1 = d.lat_long\n",
    ")\n",
    ";"
   ]
  },
  {
   "cell_type": "markdown",
   "metadata": {
    "collapsed": true
   },
   "source": [
    "Spotcheck a sample of records."
   ]
  },
  {
   "cell_type": "code",
   "execution_count": 67,
   "metadata": {
    "collapsed": false
   },
   "outputs": [
    {
     "name": "stdout",
     "output_type": "stream",
     "text": [
      "5 rows affected.\n"
     ]
    },
    {
     "data": {
      "text/html": [
       "<table>\n",
       "    <tr>\n",
       "        <th>crimedate</th>\n",
       "        <th>crimetime</th>\n",
       "        <th>crimecode</th>\n",
       "        <th>location</th>\n",
       "        <th>description</th>\n",
       "        <th>inside_outside</th>\n",
       "        <th>weapon</th>\n",
       "        <th>post</th>\n",
       "        <th>district</th>\n",
       "        <th>neighborhood</th>\n",
       "        <th>location_1</th>\n",
       "        <th>total_incidents</th>\n",
       "        <th>incident_id</th>\n",
       "        <th>year</th>\n",
       "        <th>month</th>\n",
       "        <th>day</th>\n",
       "        <th>date_time_key</th>\n",
       "        <th>crime_details_key</th>\n",
       "        <th>location_details_key</th>\n",
       "    </tr>\n",
       "    <tr>\n",
       "        <td>2016-01-01 00:00:00</td>\n",
       "        <td>00:42:00</td>\n",
       "        <td>3AF</td>\n",
       "        <td>6900 HARFORD RD</td>\n",
       "        <td>ROBBERY - STREET</td>\n",
       "        <td>O</td>\n",
       "        <td>FIREARM</td>\n",
       "        <td>424</td>\n",
       "        <td>NORTHEASTERN</td>\n",
       "        <td>North Harford Road</td>\n",
       "        <td>(39.3661600000, -76.5495000000)</td>\n",
       "        <td>1</td>\n",
       "        <td>38975</td>\n",
       "        <td>2016</td>\n",
       "        <td>1</td>\n",
       "        <td>1</td>\n",
       "        <td>1</td>\n",
       "        <td>13</td>\n",
       "        <td>21616</td>\n",
       "    </tr>\n",
       "    <tr>\n",
       "        <td>2016-01-01 00:00:00</td>\n",
       "        <td>00:50:00</td>\n",
       "        <td>3K</td>\n",
       "        <td>2200 SAINT PAUL ST</td>\n",
       "        <td>ROBBERY - RESIDENCE</td>\n",
       "        <td>I</td>\n",
       "        <td>n/a</td>\n",
       "        <td>514</td>\n",
       "        <td>NORTHERN</td>\n",
       "        <td>Barclay</td>\n",
       "        <td>(39.3146400000, -76.6151400000)</td>\n",
       "        <td>1</td>\n",
       "        <td>38976</td>\n",
       "        <td>2016</td>\n",
       "        <td>1</td>\n",
       "        <td>1</td>\n",
       "        <td>2</td>\n",
       "        <td>60</td>\n",
       "        <td>8139</td>\n",
       "    </tr>\n",
       "    <tr>\n",
       "        <td>2016-01-01 00:00:00</td>\n",
       "        <td>01:00:00</td>\n",
       "        <td>7A</td>\n",
       "        <td>2700 GWYNN FALLS</td>\n",
       "        <td>AUTO THEFT</td>\n",
       "        <td>O</td>\n",
       "        <td>n/a</td>\n",
       "        <td>731</td>\n",
       "        <td>WESTERN</td>\n",
       "        <td>Panway/Braddish Avenue</td>\n",
       "        <td>(39.3142500000, -76.6630600000)</td>\n",
       "        <td>1</td>\n",
       "        <td>38981</td>\n",
       "        <td>2016</td>\n",
       "        <td>1</td>\n",
       "        <td>1</td>\n",
       "        <td>3</td>\n",
       "        <td>136</td>\n",
       "        <td>10108</td>\n",
       "    </tr>\n",
       "    <tr>\n",
       "        <td>2016-01-01 00:00:00</td>\n",
       "        <td>01:00:00</td>\n",
       "        <td>4C</td>\n",
       "        <td>0 N WASHINGTON ST</td>\n",
       "        <td>AGG. ASSAULT</td>\n",
       "        <td>I</td>\n",
       "        <td>OTHER</td>\n",
       "        <td>212</td>\n",
       "        <td>SOUTHEASTERN</td>\n",
       "        <td>Butcher&#x27;s Hill</td>\n",
       "        <td>(39.2922400000, -76.5891600000)</td>\n",
       "        <td>1</td>\n",
       "        <td>38979</td>\n",
       "        <td>2016</td>\n",
       "        <td>1</td>\n",
       "        <td>1</td>\n",
       "        <td>3</td>\n",
       "        <td>81</td>\n",
       "        <td>416</td>\n",
       "    </tr>\n",
       "    <tr>\n",
       "        <td>2016-01-01 00:00:00</td>\n",
       "        <td>01:00:00</td>\n",
       "        <td>6D</td>\n",
       "        <td>2500 TOLLEY ST</td>\n",
       "        <td>LARCENY FROM AUTO</td>\n",
       "        <td>O</td>\n",
       "        <td>n/a</td>\n",
       "        <td>831</td>\n",
       "        <td>SOUTHWESTERN</td>\n",
       "        <td>Morrell Park</td>\n",
       "        <td>(39.2650900000, -76.6497600000)</td>\n",
       "        <td>1</td>\n",
       "        <td>38978</td>\n",
       "        <td>2016</td>\n",
       "        <td>1</td>\n",
       "        <td>1</td>\n",
       "        <td>3</td>\n",
       "        <td>118</td>\n",
       "        <td>9485</td>\n",
       "    </tr>\n",
       "</table>"
      ],
      "text/plain": [
       "[(datetime.datetime(2016, 1, 1, 0, 0), '00:42:00', '3AF', '6900 HARFORD RD', 'ROBBERY - STREET', 'O', 'FIREARM', 424, 'NORTHEASTERN', 'North Harford Road', '(39.3661600000, -76.5495000000)', 1, 38975, Decimal('2016'), Decimal('1'), Decimal('1'), 1, 13, 21616),\n",
       " (datetime.datetime(2016, 1, 1, 0, 0), '00:50:00', '3K', '2200 SAINT PAUL ST', 'ROBBERY - RESIDENCE', 'I', 'n/a', 514, 'NORTHERN', 'Barclay', '(39.3146400000, -76.6151400000)', 1, 38976, Decimal('2016'), Decimal('1'), Decimal('1'), 2, 60, 8139),\n",
       " (datetime.datetime(2016, 1, 1, 0, 0), '01:00:00', '7A', '2700 GWYNN FALLS', 'AUTO THEFT', 'O', 'n/a', 731, 'WESTERN', 'Panway/Braddish Avenue', '(39.3142500000, -76.6630600000)', 1, 38981, Decimal('2016'), Decimal('1'), Decimal('1'), 3, 136, 10108),\n",
       " (datetime.datetime(2016, 1, 1, 0, 0), '01:00:00', '4C', '0 N WASHINGTON ST', 'AGG. ASSAULT', 'I', 'OTHER', 212, 'SOUTHEASTERN', \"Butcher's Hill\", '(39.2922400000, -76.5891600000)', 1, 38979, Decimal('2016'), Decimal('1'), Decimal('1'), 3, 81, 416),\n",
       " (datetime.datetime(2016, 1, 1, 0, 0), '01:00:00', '6D', '2500 TOLLEY ST', 'LARCENY FROM AUTO', 'O', 'n/a', 831, 'SOUTHWESTERN', 'Morrell Park', '(39.2650900000, -76.6497600000)', 1, 38978, Decimal('2016'), Decimal('1'), Decimal('1'), 3, 118, 9485)]"
      ]
     },
     "execution_count": 67,
     "metadata": {},
     "output_type": "execute_result"
    }
   ],
   "source": [
    "%%sql\n",
    "SELECT *\n",
    "FROM fact_incidents_2016\n",
    "LIMIT 5;"
   ]
  },
  {
   "cell_type": "markdown",
   "metadata": {},
   "source": [
    "Confirm that there are no missing values in dimension key fields"
   ]
  },
  {
   "cell_type": "code",
   "execution_count": 70,
   "metadata": {
    "collapsed": false
   },
   "outputs": [
    {
     "name": "stdout",
     "output_type": "stream",
     "text": [
      "0 rows affected.\n"
     ]
    },
    {
     "data": {
      "text/html": [
       "<table>\n",
       "    <tr>\n",
       "        <th>crimedate</th>\n",
       "        <th>crimetime</th>\n",
       "        <th>crimecode</th>\n",
       "        <th>location</th>\n",
       "        <th>description</th>\n",
       "        <th>inside_outside</th>\n",
       "        <th>weapon</th>\n",
       "        <th>post</th>\n",
       "        <th>district</th>\n",
       "        <th>neighborhood</th>\n",
       "        <th>location_1</th>\n",
       "        <th>total_incidents</th>\n",
       "        <th>incident_id</th>\n",
       "        <th>year</th>\n",
       "        <th>month</th>\n",
       "        <th>day</th>\n",
       "        <th>date_time_key</th>\n",
       "        <th>crime_details_key</th>\n",
       "        <th>location_details_key</th>\n",
       "    </tr>\n",
       "</table>"
      ],
      "text/plain": [
       "[]"
      ]
     },
     "execution_count": 70,
     "metadata": {},
     "output_type": "execute_result"
    }
   ],
   "source": [
    "%%sql\n",
    "SELECT *\n",
    "FROM fact_incidents_2016\n",
    "WHERE date_time_key is null\n",
    ";"
   ]
  },
  {
   "cell_type": "code",
   "execution_count": 71,
   "metadata": {
    "collapsed": false
   },
   "outputs": [
    {
     "name": "stdout",
     "output_type": "stream",
     "text": [
      "0 rows affected.\n"
     ]
    },
    {
     "data": {
      "text/html": [
       "<table>\n",
       "    <tr>\n",
       "        <th>crimedate</th>\n",
       "        <th>crimetime</th>\n",
       "        <th>crimecode</th>\n",
       "        <th>location</th>\n",
       "        <th>description</th>\n",
       "        <th>inside_outside</th>\n",
       "        <th>weapon</th>\n",
       "        <th>post</th>\n",
       "        <th>district</th>\n",
       "        <th>neighborhood</th>\n",
       "        <th>location_1</th>\n",
       "        <th>total_incidents</th>\n",
       "        <th>incident_id</th>\n",
       "        <th>year</th>\n",
       "        <th>month</th>\n",
       "        <th>day</th>\n",
       "        <th>date_time_key</th>\n",
       "        <th>crime_details_key</th>\n",
       "        <th>location_details_key</th>\n",
       "    </tr>\n",
       "</table>"
      ],
      "text/plain": [
       "[]"
      ]
     },
     "execution_count": 71,
     "metadata": {},
     "output_type": "execute_result"
    }
   ],
   "source": [
    "%%sql\n",
    "SELECT *\n",
    "FROM fact_incidents_2016\n",
    "WHERE crime_details_key is null\n",
    ";"
   ]
  },
  {
   "cell_type": "code",
   "execution_count": 72,
   "metadata": {
    "collapsed": false
   },
   "outputs": [
    {
     "name": "stdout",
     "output_type": "stream",
     "text": [
      "0 rows affected.\n"
     ]
    },
    {
     "data": {
      "text/html": [
       "<table>\n",
       "    <tr>\n",
       "        <th>crimedate</th>\n",
       "        <th>crimetime</th>\n",
       "        <th>crimecode</th>\n",
       "        <th>location</th>\n",
       "        <th>description</th>\n",
       "        <th>inside_outside</th>\n",
       "        <th>weapon</th>\n",
       "        <th>post</th>\n",
       "        <th>district</th>\n",
       "        <th>neighborhood</th>\n",
       "        <th>location_1</th>\n",
       "        <th>total_incidents</th>\n",
       "        <th>incident_id</th>\n",
       "        <th>year</th>\n",
       "        <th>month</th>\n",
       "        <th>day</th>\n",
       "        <th>date_time_key</th>\n",
       "        <th>crime_details_key</th>\n",
       "        <th>location_details_key</th>\n",
       "    </tr>\n",
       "</table>"
      ],
      "text/plain": [
       "[]"
      ]
     },
     "execution_count": 72,
     "metadata": {},
     "output_type": "execute_result"
    }
   ],
   "source": [
    "%%sql\n",
    "SELECT *\n",
    "FROM fact_incidents_2016\n",
    "WHERE location_details_key is null\n",
    ";"
   ]
  },
  {
   "cell_type": "markdown",
   "metadata": {},
   "source": [
    "Drop columns that are no longer needed in fact_incidents_2016 table."
   ]
  },
  {
   "cell_type": "code",
   "execution_count": 76,
   "metadata": {
    "collapsed": false
   },
   "outputs": [
    {
     "name": "stdout",
     "output_type": "stream",
     "text": [
      "Done.\n",
      "Done.\n",
      "Done.\n",
      "Done.\n",
      "Done.\n",
      "Done.\n",
      "Done.\n",
      "Done.\n",
      "Done.\n",
      "Done.\n",
      "Done.\n",
      "Done.\n",
      "Done.\n",
      "Done.\n"
     ]
    },
    {
     "data": {
      "text/plain": [
       "[]"
      ]
     },
     "execution_count": 76,
     "metadata": {},
     "output_type": "execute_result"
    }
   ],
   "source": [
    "%%sql\n",
    "ALTER TABLE fact_incidents_2016\n",
    "DROP COLUMN crimedate;\n",
    "\n",
    "ALTER TABLE fact_incidents_2016\n",
    "DROP COLUMN crimetime;\n",
    "\n",
    "ALTER TABLE fact_incidents_2016\n",
    "DROP COLUMN crimecode;\n",
    "\n",
    "ALTER TABLE fact_incidents_2016\n",
    "DROP COLUMN location;\n",
    "\n",
    "ALTER TABLE fact_incidents_2016\n",
    "DROP COLUMN description;\n",
    "\n",
    "ALTER TABLE fact_incidents_2016\n",
    "DROP COLUMN inside_outside;\n",
    "\n",
    "ALTER TABLE fact_incidents_2016\n",
    "DROP COLUMN weapon;\n",
    "\n",
    "ALTER TABLE fact_incidents_2016\n",
    "DROP COLUMN post;\n",
    "\n",
    "ALTER TABLE fact_incidents_2016\n",
    "DROP COLUMN district;\n",
    "\n",
    "ALTER TABLE fact_incidents_2016\n",
    "DROP COLUMN neighborhood;\n",
    "\n",
    "ALTER TABLE fact_incidents_2016\n",
    "DROP COLUMN location_1;\n",
    "\n",
    "ALTER TABLE fact_incidents_2016\n",
    "DROP COLUMN year;\n",
    "\n",
    "ALTER TABLE fact_incidents_2016\n",
    "DROP COLUMN month;\n",
    "\n",
    "ALTER TABLE fact_incidents_2016\n",
    "DROP COLUMN day;"
   ]
  },
  {
   "cell_type": "markdown",
   "metadata": {},
   "source": [
    "Verify updated fact table no longer has removed fields."
   ]
  },
  {
   "cell_type": "code",
   "execution_count": 77,
   "metadata": {
    "collapsed": false
   },
   "outputs": [
    {
     "name": "stdout",
     "output_type": "stream",
     "text": [
      "5 rows affected.\n"
     ]
    },
    {
     "data": {
      "text/html": [
       "<table>\n",
       "    <tr>\n",
       "        <th>total_incidents</th>\n",
       "        <th>incident_id</th>\n",
       "        <th>date_time_key</th>\n",
       "        <th>crime_details_key</th>\n",
       "        <th>location_details_key</th>\n",
       "    </tr>\n",
       "    <tr>\n",
       "        <td>1</td>\n",
       "        <td>38975</td>\n",
       "        <td>1</td>\n",
       "        <td>13</td>\n",
       "        <td>21616</td>\n",
       "    </tr>\n",
       "    <tr>\n",
       "        <td>1</td>\n",
       "        <td>38976</td>\n",
       "        <td>2</td>\n",
       "        <td>60</td>\n",
       "        <td>8139</td>\n",
       "    </tr>\n",
       "    <tr>\n",
       "        <td>1</td>\n",
       "        <td>38981</td>\n",
       "        <td>3</td>\n",
       "        <td>136</td>\n",
       "        <td>10108</td>\n",
       "    </tr>\n",
       "    <tr>\n",
       "        <td>1</td>\n",
       "        <td>38979</td>\n",
       "        <td>3</td>\n",
       "        <td>81</td>\n",
       "        <td>416</td>\n",
       "    </tr>\n",
       "    <tr>\n",
       "        <td>1</td>\n",
       "        <td>38978</td>\n",
       "        <td>3</td>\n",
       "        <td>118</td>\n",
       "        <td>9485</td>\n",
       "    </tr>\n",
       "</table>"
      ],
      "text/plain": [
       "[(1, 38975, 1, 13, 21616),\n",
       " (1, 38976, 2, 60, 8139),\n",
       " (1, 38981, 3, 136, 10108),\n",
       " (1, 38979, 3, 81, 416),\n",
       " (1, 38978, 3, 118, 9485)]"
      ]
     },
     "execution_count": 77,
     "metadata": {},
     "output_type": "execute_result"
    }
   ],
   "source": [
    "%%sql\n",
    "SELECT *\n",
    "FROM fact_incidents_2016\n",
    "LIMIT 5;"
   ]
  },
  {
   "cell_type": "markdown",
   "metadata": {},
   "source": [
    "Verify that results match from original data compared to star schema for incident_id 38975."
   ]
  },
  {
   "cell_type": "code",
   "execution_count": 78,
   "metadata": {
    "collapsed": false
   },
   "outputs": [
    {
     "name": "stdout",
     "output_type": "stream",
     "text": [
      "1 rows affected.\n"
     ]
    },
    {
     "data": {
      "text/html": [
       "<table>\n",
       "    <tr>\n",
       "        <th>crimedate</th>\n",
       "        <th>crimetime</th>\n",
       "        <th>crimecode</th>\n",
       "        <th>location</th>\n",
       "        <th>description</th>\n",
       "        <th>inside_outside</th>\n",
       "        <th>weapon</th>\n",
       "        <th>post</th>\n",
       "        <th>district</th>\n",
       "        <th>neighborhood</th>\n",
       "        <th>location_1</th>\n",
       "        <th>total_incidents</th>\n",
       "        <th>incident_id</th>\n",
       "        <th>year</th>\n",
       "        <th>month</th>\n",
       "        <th>day</th>\n",
       "    </tr>\n",
       "    <tr>\n",
       "        <td>2016-01-01 00:00:00</td>\n",
       "        <td>00:42:00</td>\n",
       "        <td>3AF</td>\n",
       "        <td>6900 HARFORD RD</td>\n",
       "        <td>ROBBERY - STREET</td>\n",
       "        <td>O</td>\n",
       "        <td>FIREARM</td>\n",
       "        <td>424</td>\n",
       "        <td>NORTHEASTERN</td>\n",
       "        <td>North Harford Road</td>\n",
       "        <td>(39.3661600000, -76.5495000000)</td>\n",
       "        <td>1</td>\n",
       "        <td>38975</td>\n",
       "        <td>2016</td>\n",
       "        <td>1</td>\n",
       "        <td>1</td>\n",
       "    </tr>\n",
       "</table>"
      ],
      "text/plain": [
       "[(datetime.datetime(2016, 1, 1, 0, 0), '00:42:00', '3AF', '6900 HARFORD RD', 'ROBBERY - STREET', 'O', 'FIREARM', 424, 'NORTHEASTERN', 'North Harford Road', '(39.3661600000, -76.5495000000)', 1, 38975, Decimal('2016'), Decimal('1'), Decimal('1'))]"
      ]
     },
     "execution_count": 78,
     "metadata": {},
     "output_type": "execute_result"
    }
   ],
   "source": [
    "%%sql\n",
    "SELECT *\n",
    "FROM BaltimoreCrime2016\n",
    "WHERE incident_id = '38975';"
   ]
  },
  {
   "cell_type": "code",
   "execution_count": 81,
   "metadata": {
    "collapsed": false
   },
   "outputs": [
    {
     "name": "stdout",
     "output_type": "stream",
     "text": [
      "1 rows affected.\n"
     ]
    },
    {
     "data": {
      "text/html": [
       "<table>\n",
       "    <tr>\n",
       "        <th>crimedate</th>\n",
       "        <th>crimetime</th>\n",
       "        <th>crimecode</th>\n",
       "        <th>location</th>\n",
       "        <th>description</th>\n",
       "        <th>inside_outside</th>\n",
       "        <th>weapon</th>\n",
       "        <th>post</th>\n",
       "        <th>district</th>\n",
       "        <th>neighborhood</th>\n",
       "        <th>lat_long</th>\n",
       "        <th>total_incidents</th>\n",
       "        <th>incident_id</th>\n",
       "        <th>year</th>\n",
       "        <th>month</th>\n",
       "        <th>day</th>\n",
       "    </tr>\n",
       "    <tr>\n",
       "        <td>2016-01-01 00:00:00</td>\n",
       "        <td>00:42:00</td>\n",
       "        <td>3AF</td>\n",
       "        <td>6900 HARFORD RD</td>\n",
       "        <td>ROBBERY - STREET</td>\n",
       "        <td>O</td>\n",
       "        <td>FIREARM</td>\n",
       "        <td>424</td>\n",
       "        <td>NORTHEASTERN</td>\n",
       "        <td>North Harford Road</td>\n",
       "        <td>(39.3661600000, -76.5495000000)</td>\n",
       "        <td>1</td>\n",
       "        <td>38975</td>\n",
       "        <td>2016</td>\n",
       "        <td>1</td>\n",
       "        <td>1</td>\n",
       "    </tr>\n",
       "</table>"
      ],
      "text/plain": [
       "[(datetime.datetime(2016, 1, 1, 0, 0), '00:42:00', '3AF', '6900 HARFORD RD', 'ROBBERY - STREET', 'O', 'FIREARM', 424, 'NORTHEASTERN', 'North Harford Road', '(39.3661600000, -76.5495000000)', 1, 38975, Decimal('2016'), Decimal('1'), Decimal('1'))]"
      ]
     },
     "execution_count": 81,
     "metadata": {},
     "output_type": "execute_result"
    }
   ],
   "source": [
    "%%sql\n",
    "SELECT \n",
    "    b.crimedate\n",
    "    , b.crimetime\n",
    "    , c.crimecode\n",
    "    , d.location\n",
    "    , c.description\n",
    "    , c.inside_outside\n",
    "    , c.weapon\n",
    "    , d.post\n",
    "    , d.district\n",
    "    , d.neighborhood\n",
    "    , d.lat_long\n",
    "    , a.total_incidents\n",
    "    , a.incident_id\n",
    "    , b.year\n",
    "    , b.month\n",
    "    , b.day\n",
    "FROM fact_incidents_2016 a\n",
    "JOIN dim_date_time b ON\n",
    "    a.date_time_key = b.date_time_key\n",
    "JOIN dim_crime_details c ON\n",
    "    a.crime_details_key = c.crime_details_key\n",
    "JOIN dim_location_details d ON\n",
    "    a.location_details_key = d.location_details_key\n",
    "WHERE a.incident_id = '38975';"
   ]
  },
  {
   "cell_type": "markdown",
   "metadata": {},
   "source": [
    "## Problem 4 - explore your data in its new schema (30 points)\n",
    "\n",
    "Strictly using the dimensional model tables you defined and populated for Problem 3, explore your data in its new form.  Use any of the query strategies we've seen in class, including transformations, aggregates, subqueries, rollups, and, of course, joins.  Add plots to highlight particular themes that stand out.  Describe your thinking and observations along the way."
   ]
  },
  {
   "cell_type": "code",
   "execution_count": null,
   "metadata": {
    "collapsed": true
   },
   "outputs": [],
   "source": []
  },
  {
   "cell_type": "markdown",
   "metadata": {},
   "source": [
    "## Bonus (10 points for one of A or B)\n",
    "\n",
    "\n",
    "### Option A - Automating ETL\n",
    "\n",
    "Consider the work you did to load your original raw dataset and then transform it into a dimensional model for analysis.  What would it take to automate this process?  How often would you need to update the data?  Could you easily automate any data cleaning steps?  What checks would you need to put in place to ensure quality?  Would humans need to be involved, or could you automate it all?\n",
    "\n",
    "Discuss.\n",
    "\n",
    "\n",
    "### Option B - Augmenting dimensions\n",
    "\n",
    "Considering your dimensional model, what external data could you find to augment it?  As in the case of bike trips, where weather might provide an interesting added dimension/context not present in the original data, you can probably find another source of data to complement your own model.  Identify one such source and add it to your model, demonstrating its value with a few new queries."
   ]
  }
 ],
 "metadata": {
  "anaconda-cloud": {},
  "kernelspec": {
   "display_name": "Python 3",
   "language": "python",
   "name": "python3"
  },
  "language_info": {
   "codemirror_mode": {
    "name": "ipython",
    "version": 3
   },
   "file_extension": ".py",
   "mimetype": "text/x-python",
   "name": "python",
   "nbconvert_exporter": "python",
   "pygments_lexer": "ipython3",
   "version": "3.5.2"
  }
 },
 "nbformat": 4,
 "nbformat_minor": 1
}
